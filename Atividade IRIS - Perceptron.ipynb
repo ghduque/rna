{
 "cells": [
  {
   "cell_type": "markdown",
   "id": "766b175c",
   "metadata": {},
   "source": [
    "# ATIVIDADE IRIS - PERCEPTRON"
   ]
  },
  {
   "cell_type": "code",
   "execution_count": 110,
   "id": "4eb5b8a3",
   "metadata": {},
   "outputs": [],
   "source": [
    "#importação de pacotes\n",
    "import pandas as pd\n",
    "import numpy as np\n",
    "import pygwalker as pyg\n",
    "import matplotlib.pyplot as plt\n",
    "from sklearn.metrics import confusion_matrix, classification_report\n",
    "import seaborn as sns\n",
    "import plotly.graph_objects as go"
   ]
  },
  {
   "cell_type": "code",
   "execution_count": 111,
   "id": "77a27529",
   "metadata": {},
   "outputs": [],
   "source": [
    "#funcoes\n",
    "#degrau bipolar\n",
    "def degrauBipolar(u): \n",
    " if u >= 0:  \n",
    "  y = 1\n",
    " else: \n",
    "  y = -1\n",
    " return y\n",
    "\n",
    "#funcao que classifica a amostra com base na rede ja treinada \n",
    "def previsao(w, x):\n",
    " u = np.dot(w.T, x)\n",
    " yhat = degrauBipolar(u)\n",
    " return yhat"
   ]
  },
  {
   "cell_type": "markdown",
   "id": "ca81bbaf",
   "metadata": {},
   "source": [
    "# IMPLEMENTAÇÃO DO PERCEPTRON"
   ]
  },
  {
   "cell_type": "code",
   "execution_count": 112,
   "id": "1a1fb9b0",
   "metadata": {},
   "outputs": [],
   "source": [
    "#PASSO 1: OBTER O CONJUNTO DE AMOSTRAS DE TREINAMENTO X \n",
    "\n",
    "#carregar a tabela de dados\n",
    "dados = pd.read_csv(\"dataset_iris.csv\", sep=\";\")\n",
    "\n",
    "#analise exploratoria de dados\n",
    "#walker = pyg.walk(dados)"
   ]
  },
  {
   "cell_type": "code",
   "execution_count": 113,
   "id": "240f6e81",
   "metadata": {},
   "outputs": [
    {
     "name": "stdout",
     "output_type": "stream",
     "text": [
      "30\n",
      "3\n",
      "[[-0.6508  0.1097  4.0009]\n",
      " [-1.4492  0.8896  4.4005]\n",
      " [ 2.085   0.6876 12.071 ]\n",
      " [ 0.2626  1.1476  7.7985]\n",
      " [ 0.6418  1.0234  7.0427]\n",
      " [ 0.2569  0.673   8.3265]\n",
      " [ 1.1155  0.6043  7.4446]\n",
      " [ 0.0914  0.3399  7.0677]\n",
      " [ 0.0121  0.5256  4.6316]\n",
      " [-0.0429  0.466   5.4323]\n",
      " [ 0.434   0.687   8.2287]\n",
      " [ 0.2735  1.0287  7.1934]\n",
      " [ 0.4839  0.4851  7.485 ]\n",
      " [ 0.4089 -0.1267  5.5019]\n",
      " [ 1.4391  0.1614  8.5843]\n",
      " [-0.9115 -0.1973  2.1962]\n",
      " [ 0.3654  1.0475  7.4858]\n",
      " [ 0.2144  0.7515  7.1699]\n",
      " [ 0.2013  1.0014  6.5489]\n",
      " [ 0.6483  0.2183  5.8991]\n",
      " [-0.1147  0.2242  7.2435]\n",
      " [-0.797   0.8795  3.8762]\n",
      " [-1.0625  0.6366  2.4707]\n",
      " [ 0.5307  0.1285  5.6883]\n",
      " [-1.22    0.7777  1.7252]\n",
      " [ 0.3957  0.1076  5.6623]\n",
      " [-0.1013  0.5989  7.1812]\n",
      " [ 2.4482  0.9455 11.2095]\n",
      " [ 2.0149  0.6192 10.9263]\n",
      " [ 0.2012  0.2611  5.4631]]\n"
     ]
    }
   ],
   "source": [
    "#quantidade de elementos na amostra\n",
    "n_amostras = dados.shape[0]\n",
    "print(n_amostras)\n",
    "\n",
    "#quantidade de variaveis de entrada (subtrair a coluna de tipo)\n",
    "n_variaveis = dados.shape[1] - 1 \n",
    "print(n_variaveis)\n",
    "\n",
    "#separando os dados contendo apenas as variaveis de entrada \n",
    "x = dados.iloc[:, 0:n_variaveis].values\n",
    "print(x)\n"
   ]
  },
  {
   "cell_type": "code",
   "execution_count": 114,
   "id": "aedbfe37",
   "metadata": {},
   "outputs": [
    {
     "name": "stdout",
     "output_type": "stream",
     "text": [
      "[[-0.6508  0.1097  4.0009 -1.    ]\n",
      " [-1.4492  0.8896  4.4005 -1.    ]\n",
      " [ 2.085   0.6876 12.071  -1.    ]\n",
      " [ 0.2626  1.1476  7.7985 -1.    ]\n",
      " [ 0.6418  1.0234  7.0427 -1.    ]\n",
      " [ 0.2569  0.673   8.3265 -1.    ]\n",
      " [ 1.1155  0.6043  7.4446 -1.    ]\n",
      " [ 0.0914  0.3399  7.0677 -1.    ]\n",
      " [ 0.0121  0.5256  4.6316 -1.    ]\n",
      " [-0.0429  0.466   5.4323 -1.    ]\n",
      " [ 0.434   0.687   8.2287 -1.    ]\n",
      " [ 0.2735  1.0287  7.1934 -1.    ]\n",
      " [ 0.4839  0.4851  7.485  -1.    ]\n",
      " [ 0.4089 -0.1267  5.5019 -1.    ]\n",
      " [ 1.4391  0.1614  8.5843 -1.    ]\n",
      " [-0.9115 -0.1973  2.1962 -1.    ]\n",
      " [ 0.3654  1.0475  7.4858 -1.    ]\n",
      " [ 0.2144  0.7515  7.1699 -1.    ]\n",
      " [ 0.2013  1.0014  6.5489 -1.    ]\n",
      " [ 0.6483  0.2183  5.8991 -1.    ]\n",
      " [-0.1147  0.2242  7.2435 -1.    ]\n",
      " [-0.797   0.8795  3.8762 -1.    ]\n",
      " [-1.0625  0.6366  2.4707 -1.    ]\n",
      " [ 0.5307  0.1285  5.6883 -1.    ]\n",
      " [-1.22    0.7777  1.7252 -1.    ]\n",
      " [ 0.3957  0.1076  5.6623 -1.    ]\n",
      " [-0.1013  0.5989  7.1812 -1.    ]\n",
      " [ 2.4482  0.9455 11.2095 -1.    ]\n",
      " [ 2.0149  0.6192 10.9263 -1.    ]\n",
      " [ 0.2012  0.2611  5.4631 -1.    ]]\n"
     ]
    }
   ],
   "source": [
    "#inserindo o bias \n",
    "bias = np.ones((n_amostras, 1)) * -1 \n",
    "x = np.hstack((x, bias))\n",
    "print(x)"
   ]
  },
  {
   "cell_type": "code",
   "execution_count": 115,
   "id": "9f74e006",
   "metadata": {},
   "outputs": [
    {
     "name": "stdout",
     "output_type": "stream",
     "text": [
      "[-1. -1. -1.  1.  1. -1.  1. -1.  1.  1. -1.  1. -1. -1. -1. -1.  1.  1.\n",
      "  1.  1. -1.  1.  1.  1.  1. -1. -1.  1. -1.  1.]\n",
      "-1: 14\n",
      "1: 16\n"
     ]
    }
   ],
   "source": [
    "#PASSO 2: DO VETOR DE SAIDAS Y, ASSOCIAR A SAIDA ESPERADA DE Y PARA CADA X\n",
    "\n",
    "y = dados.iloc[:, n_variaveis].values\n",
    "print(y)\n",
    "\n",
    "#contar quantas amostras de cada classe existem no dataset\n",
    "print(f\"-1: {(y == -1).sum()}\")\n",
    "print(f\"1: {(y == 1).sum()}\")"
   ]
  },
  {
   "cell_type": "code",
   "execution_count": 116,
   "id": "7d3e785a",
   "metadata": {},
   "outputs": [
    {
     "name": "stdout",
     "output_type": "stream",
     "text": [
      "[ 0.12600657  0.34544129  0.59664503 -0.75258078]\n"
     ]
    }
   ],
   "source": [
    "#PASSO 3: INICIALIZAR O VETOR DE PESOS W COM VALORES ALEATORIOS \n",
    "w = np.random.uniform(-1,1,n_variaveis + 1)\n",
    "print(w)"
   ]
  },
  {
   "cell_type": "code",
   "execution_count": 117,
   "id": "ba05e1a7",
   "metadata": {},
   "outputs": [],
   "source": [
    "#PASSO 4: DEFINIR A TAXA DE APRENDIZAGEM COM VALOR ENTRE 0 E 1 \n",
    "#taxa de aprendizagem eta\n",
    "eta = 0.01\n",
    "\n",
    "#PASSO 5: CALCULAR O NUMERO DE AMOSTRAS EM X\n",
    "#ja foi deito e esta em n_amostras\n",
    "\n",
    "#PASSO 6: DEFINIR A TOLERANCIA AO ERRO \n",
    "tolerancia = 0.01 \n",
    "\n",
    "#PASSO 7: SETAR O ERRO INICIAL MAIOR QUE A TOLERANCIA \n",
    "erro_medio = tolerancia + 1 \n",
    "\n",
    "#PASSO 8: CRIAR UM VETOR QUE IRA ARMAZENAR O ERRO DE TODAS AS EPOCAS, EPOCA A EPOCA \n",
    "erros_epocas = []\n",
    "\n",
    "#PASSO 9: INCIALIZA O CONTADOR DE EPOCAS  \n",
    "epoca = 0 \n",
    "\n",
    "#PASSO 10: DEFINE O MAXIMO DE EPOCAS \n",
    "max_epocas = 300\n",
    "\n"
   ]
  },
  {
   "cell_type": "code",
   "execution_count": 118,
   "id": "2fdb43a7",
   "metadata": {},
   "outputs": [],
   "source": [
    "#PASSO 11 E 12: SETA OS CRITERIOS DE PARADA \n",
    "criterio_erro = True \n",
    "criterio_epocas = True\n",
    "\n",
    "#PASSO 13: ENQUANTO O ERRO FOR MAIOR QUE A TOLERANCIA E O MAXIMO DE EPOCAS NAO FOR ATINGIDO, CONTINUE O TREINO\n",
    "while (criterio_erro and criterio_epocas):\n",
    "    #PASSO 14: SETA O ERRO DA EPOCA ATUAL COM ZERO NO INICIO DE CADA EPOCA\n",
    "    erro_atual = 0 \n",
    "\n",
    "    #PASSO 15: IMPLEMENTA O CONTADOR DE EPOCAS PARA SABER QUE EPOCA A RNA ESTA TREINANDO \n",
    "    epoca = epoca + 1 \n",
    "\n",
    "    #PASSO 16: EMBARALHA OS INDICES PARA BUSCAR AMOSTRAS ALEATORIAMENTE NO CONJUNTO X \n",
    "    indices_embaralhados = np.random.permutation(n_amostras)\n",
    "\n",
    "    #PASSO 17: PARA CADA AMOSTRA NO CONJUNTO DE TREINO X FAÇA \n",
    "    for i in range(n_amostras): \n",
    "        #captura o indice da amostra atual a ser apresentada na RNA\n",
    "        indice_amostra = indices_embaralhados[i]\n",
    "\n",
    "        #captura a amostra atual a ser apresentada a RNA\n",
    "        xi_amostra = x[indice_amostra, :]\n",
    "        \n",
    "        #PASSO 18: CALCULA O POTENCIAL DE ATIVAÇÃO U \n",
    "        u = np.dot(w.T, xi_amostra)\n",
    "\n",
    "        #PASSO 19: CALCULA A SAÍDA PREVISTA COM BASE NA FUNÇÃO DE ATIVAÇÃO \n",
    "        yhat = degrauBipolar(u)\n",
    "        \n",
    "        #PASSO 20: CALCULA O ERRO ENTRE O VALOR ESPERADO E O VALOR PREVISTO \n",
    "        e = y[indice_amostra] - yhat\n",
    "\n",
    "        #PASSSO 21: ATUALIZA OS PESOS APLICANDO A REGRA DE HEBB \n",
    "        w = w + ((eta * e) * xi_amostra)\n",
    "\n",
    "        #PASSSO 22: ACUMULADOR DE ERROS DE TODAS AS AMOSTRAS\n",
    "        erro_atual = erro_atual + np.abs(e)\n",
    "\n",
    "        #PASSO 23: CALCULA O ERRO MEDIO DA EPOCA\n",
    "        erro_medio = erro_atual/n_amostras\n",
    "\n",
    "        #PASSO 24: ARMAZENA O ERRO MEDIO DA EPOCA ATUAL NO VETOR DE TODAS AS EPOCAS\n",
    "        erros_epocas.append(erro_medio)\n",
    "\n",
    "        #PASSO 25 E 26: VERIFICA E ATUALIZA OS CRITERIOS DE PARADA\n",
    "        criterio_erro = (erro_medio > tolerancia)\n",
    "        criterio_epocas = (epoca < max_epocas)"
   ]
  },
  {
   "cell_type": "code",
   "execution_count": 119,
   "id": "9ae051e3",
   "metadata": {},
   "outputs": [
    {
     "data": {
      "text/plain": [
       "<function matplotlib.pyplot.show(close=None, block=None)>"
      ]
     },
     "execution_count": 119,
     "metadata": {},
     "output_type": "execute_result"
    },
    {
     "data": {
      "image/png": "[encoded data removed]",
      "text/plain": [
       "<Figure size 400x400 with 1 Axes>"
      ]
     },
     "metadata": {},
     "output_type": "display_data"
    }
   ],
   "source": [
    "#plotando a convergencia do algortimo com base no erro epoca a epoca \n",
    "plt.figure(figsize=(4,4))\n",
    "plt.plot(erros_epocas[:max_epocas])\n",
    "plt.title(\"Convergência do erro\")\n",
    "plt.xlabel(\"Épocas\")\n",
    "plt.ylabel(\"Erro médio\")\n",
    "plt.grid(True)\n",
    "plt.show"
   ]
  },
  {
   "cell_type": "code",
   "execution_count": 120,
   "id": "c3582d35",
   "metadata": {},
   "outputs": [
    {
     "name": "stdout",
     "output_type": "stream",
     "text": [
      "Conjunto ideal de pesos w*\n",
      "[ 1.16806257  1.98359729 -0.53852297 -2.29258078]\n",
      "Épocas necessárias para convergir\n",
      "157\n"
     ]
    }
   ],
   "source": [
    "#exibindo os pesos calibrados pela Regra de Hebb \n",
    "print(\"Conjunto ideal de pesos w*\")\n",
    "print(w)\n",
    "\n",
    "print(\"Épocas necessárias para convergir\")\n",
    "print(epoca)"
   ]
  },
  {
   "cell_type": "code",
   "execution_count": 121,
   "id": "092f010e",
   "metadata": {},
   "outputs": [
    {
     "name": "stdout",
     "output_type": "stream",
     "text": [
      "[-1. -1. -1.  1.  1. -1.  1. -1.  1.  1. -1.  1. -1. -1. -1. -1.  1.  1.\n",
      "  1.  1. -1.  1.  1.  1.  1. -1. -1.  1. -1.  1.]\n"
     ]
    }
   ],
   "source": [
    "#cria um vetor para receber todas as previsoes realizadas pela RNA\n",
    "yhat = np.zeros(n_amostras)\n",
    "\n",
    "#armazenar todas as previsoes uma para cada amostra \n",
    "for i in range(n_amostras):\n",
    "    yhat[i] = previsao(w, x[i, :])\n",
    "\n",
    "print(yhat)"
   ]
  },
  {
   "cell_type": "markdown",
   "id": "76eb1d18",
   "metadata": {},
   "source": [
    "## ANÁLISE DA QUALIDADE DE CLASSIFICAÇÃO "
   ]
  },
  {
   "cell_type": "code",
   "execution_count": 122,
   "id": "752cd81f",
   "metadata": {},
   "outputs": [
    {
     "name": "stdout",
     "output_type": "stream",
     "text": [
      "Matriz de Confusão\n",
      "[[14  0]\n",
      " [ 0 16]]\n"
     ]
    },
    {
     "data": {
      "image/png": "[encoded data removed]",
      "text/plain": [
       "<Figure size 400x300 with 2 Axes>"
      ]
     },
     "metadata": {},
     "output_type": "display_data"
    }
   ],
   "source": [
    "#converter -1 em 0 para melhor visualizar a matriz de confusão \n",
    "yhat_display = np.where(yhat == -1, 0, yhat)\n",
    "y_display = np.where(y == -1, 0, y)\n",
    "\n",
    "#gera a matriz de confusao \n",
    "cm = confusion_matrix(y_display, yhat_display)\n",
    "print('Matriz de Confusão')\n",
    "print(cm)\n",
    "\n",
    "#plotar matriz de confusao croncante \n",
    "plt.figure(figsize=(4,3))\n",
    "sns.heatmap(cm, annot=True, fmt='d', cmap='Blues',\n",
    "            xticklabels=['Setosa','Versicolor'],\n",
    "            yticklabels=['Setosa','Versicolor'],)\n",
    "plt.title('Matriz de Confusão')\n",
    "plt.xlabel('Valor Real')\n",
    "plt.ylabel('Valor Predito')\n",
    "plt.show()"
   ]
  },
  {
   "cell_type": "code",
   "execution_count": 123,
   "id": "35104abd",
   "metadata": {},
   "outputs": [
    {
     "name": "stdout",
     "output_type": "stream",
     "text": [
      "Acurácia do Modelo:  100.0 %\n"
     ]
    }
   ],
   "source": [
    "#calculo da acurácia do modelo \n",
    "acuracia = (np.sum(yhat == y) / n_amostras) * 100\n",
    "print('Acurácia do Modelo: ',acuracia,'%') "
   ]
  },
  {
   "cell_type": "code",
   "execution_count": 125,
   "id": "fdf243dd",
   "metadata": {},
   "outputs": [
    {
     "data": {
      "image/png": "[encoded data removed]",
      "text/plain": [
       "<Figure size 400x400 with 1 Axes>"
      ]
     },
     "metadata": {},
     "output_type": "display_data"
    }
   ],
   "source": [
    "#plot do gráfico com o resultado das classificações\n",
    "if cm.shape == (2, 2):\n",
    "   resultado = [cm[0, 0], cm[0, 1], cm[1, 1], cm[1, 0]]\n",
    "   labels = ['VV', 'VS', 'SS', 'SV']\n",
    "   colors = ['green', 'red', 'green', 'red']\n",
    "   \n",
    "   plt.figure(figsize=(4, 4))\n",
    "   plt.bar(labels, resultado, color=colors)\n",
    "   plt.xlabel('Previsões')\n",
    "   plt.ylabel('Quantidade')\n",
    "   plt.title('Resultado das Classificações')\n",
    "   plt.ylim(0, 20)\n",
    "   for i, v in enumerate(resultado):\n",
    "      plt.text(i, v + 0.2, str(v), ha='center')\n",
    "   plt.show()"
   ]
  },
  {
   "cell_type": "code",
   "execution_count": 126,
   "id": "2da94903",
   "metadata": {},
   "outputs": [
    {
     "data": {
      "application/vnd.plotly.v1+json": {
       "config": {
        "plotlyServerURL": "https://plot.ly"
       },
       "data": [
        {
         "colorscale": [
          [
           0,
           "rgb(0, 0, 0)"
          ],
          [
           0.09090909090909091,
           "rgb(16, 16, 16)"
          ],
          [
           0.18181818181818182,
           "rgb(38, 38, 38)"
          ],
          [
           0.2727272727272727,
           "rgb(59, 59, 59)"
          ],
          [
           0.36363636363636365,
           "rgb(81, 80, 80)"
          ],
          [
           0.45454545454545453,
           "rgb(102, 101, 101)"
          ],
          [
           0.5454545454545454,
           "rgb(124, 123, 122)"
          ],
          [
           0.6363636363636364,
           "rgb(146, 146, 145)"
          ],
          [
           0.7272727272727273,
           "rgb(171, 171, 170)"
          ],
          [
           0.8181818181818182,
           "rgb(197, 197, 195)"
          ],
          [
           0.9090909090909091,
           "rgb(224, 224, 223)"
          ],
          [
           1,
           "rgb(254, 254, 253)"
          ]
         ],
         "name": "Hiperplano",
         "opacity": 0.3,
         "showscale": false,
         "type": "surface",
         "x": [
          [
           -1.9492,
           -1.6914421052631579,
           -1.433684210526316,
           -1.1759263157894737,
           -0.9181684210526315,
           -0.6604105263157893,
           -0.4026526315789474,
           -0.1448947368421052,
           0.112863157894737,
           0.3706210526315792,
           0.6283789473684214,
           0.8861368421052636,
           1.1438947368421053,
           1.4016526315789475,
           1.6594105263157897,
           1.9171684210526319,
           2.174926315789474,
           2.4326842105263156,
           2.690442105263158,
           2.9482
          ],
          [
           -1.9492,
           -1.6914421052631579,
           -1.433684210526316,
           -1.1759263157894737,
           -0.9181684210526315,
           -0.6604105263157893,
           -0.4026526315789474,
           -0.1448947368421052,
           0.112863157894737,
           0.3706210526315792,
           0.6283789473684214,
           0.8861368421052636,
           1.1438947368421053,
           1.4016526315789475,
           1.6594105263157897,
           1.9171684210526319,
           2.174926315789474,
           2.4326842105263156,
           2.690442105263158,
           2.9482
          ],
          [
           -1.9492,
           -1.6914421052631579,
           -1.433684210526316,
           -1.1759263157894737,
           -0.9181684210526315,
           -0.6604105263157893,
           -0.4026526315789474,
           -0.1448947368421052,
           0.112863157894737,
           0.3706210526315792,
           0.6283789473684214,
           0.8861368421052636,
           1.1438947368421053,
           1.4016526315789475,
           1.6594105263157897,
           1.9171684210526319,
           2.174926315789474,
           2.4326842105263156,
           2.690442105263158,
           2.9482
          ],
          [
           -1.9492,
           -1.6914421052631579,
           -1.433684210526316,
           -1.1759263157894737,
           -0.9181684210526315,
           -0.6604105263157893,
           -0.4026526315789474,
           -0.1448947368421052,
           0.112863157894737,
           0.3706210526315792,
           0.6283789473684214,
           0.8861368421052636,
           1.1438947368421053,
           1.4016526315789475,
           1.6594105263157897,
           1.9171684210526319,
           2.174926315789474,
           2.4326842105263156,
           2.690442105263158,
           2.9482
          ],
          [
           -1.9492,
           -1.6914421052631579,
           -1.433684210526316,
           -1.1759263157894737,
           -0.9181684210526315,
           -0.6604105263157893,
           -0.4026526315789474,
           -0.1448947368421052,
           0.112863157894737,
           0.3706210526315792,
           0.6283789473684214,
           0.8861368421052636,
           1.1438947368421053,
           1.4016526315789475,
           1.6594105263157897,
           1.9171684210526319,
           2.174926315789474,
           2.4326842105263156,
           2.690442105263158,
           2.9482
          ],
          [
           -1.9492,
           -1.6914421052631579,
           -1.433684210526316,
           -1.1759263157894737,
           -0.9181684210526315,
           -0.6604105263157893,
           -0.4026526315789474,
           -0.1448947368421052,
           0.112863157894737,
           0.3706210526315792,
           0.6283789473684214,
           0.8861368421052636,
           1.1438947368421053,
           1.4016526315789475,
           1.6594105263157897,
           1.9171684210526319,
           2.174926315789474,
           2.4326842105263156,
           2.690442105263158,
           2.9482
          ],
          [
           -1.9492,
           -1.6914421052631579,
           -1.433684210526316,
           -1.1759263157894737,
           -0.9181684210526315,
           -0.6604105263157893,
           -0.4026526315789474,
           -0.1448947368421052,
           0.112863157894737,
           0.3706210526315792,
           0.6283789473684214,
           0.8861368421052636,
           1.1438947368421053,
           1.4016526315789475,
           1.6594105263157897,
           1.9171684210526319,
           2.174926315789474,
           2.4326842105263156,
           2.690442105263158,
           2.9482
          ],
          [
           -1.9492,
           -1.6914421052631579,
           -1.433684210526316,
           -1.1759263157894737,
           -0.9181684210526315,
           -0.6604105263157893,
           -0.4026526315789474,
           -0.1448947368421052,
           0.112863157894737,
           0.3706210526315792,
           0.6283789473684214,
           0.8861368421052636,
           1.1438947368421053,
           1.4016526315789475,
           1.6594105263157897,
           1.9171684210526319,
           2.174926315789474,
           2.4326842105263156,
           2.690442105263158,
           2.9482
          ],
          [
           -1.9492,
           -1.6914421052631579,
           -1.433684210526316,
           -1.1759263157894737,
           -0.9181684210526315,
           -0.6604105263157893,
           -0.4026526315789474,
           -0.1448947368421052,
           0.112863157894737,
           0.3706210526315792,
           0.6283789473684214,
           0.8861368421052636,
           1.1438947368421053,
           1.4016526315789475,
           1.6594105263157897,
           1.9171684210526319,
           2.174926315789474,
           2.4326842105263156,
           2.690442105263158,
           2.9482
          ],
          [
           -1.9492,
           -1.6914421052631579,
           -1.433684210526316,
           -1.1759263157894737,
           -0.9181684210526315,
           -0.6604105263157893,
           -0.4026526315789474,
           -0.1448947368421052,
           0.112863157894737,
           0.3706210526315792,
           0.6283789473684214,
           0.8861368421052636,
           1.1438947368421053,
           1.4016526315789475,
           1.6594105263157897,
           1.9171684210526319,
           2.174926315789474,
           2.4326842105263156,
           2.690442105263158,
           2.9482
          ],
          [
           -1.9492,
           -1.6914421052631579,
           -1.433684210526316,
           -1.1759263157894737,
           -0.9181684210526315,
           -0.6604105263157893,
           -0.4026526315789474,
           -0.1448947368421052,
           0.112863157894737,
           0.3706210526315792,
           0.6283789473684214,
           0.8861368421052636,
           1.1438947368421053,
           1.4016526315789475,
           1.6594105263157897,
           1.9171684210526319,
           2.174926315789474,
           2.4326842105263156,
           2.690442105263158,
           2.9482
          ],
          [
           -1.9492,
           -1.6914421052631579,
           -1.433684210526316,
           -1.1759263157894737,
           -0.9181684210526315,
           -0.6604105263157893,
           -0.4026526315789474,
           -0.1448947368421052,
           0.112863157894737,
           0.3706210526315792,
           0.6283789473684214,
           0.8861368421052636,
           1.1438947368421053,
           1.4016526315789475,
           1.6594105263157897,
           1.9171684210526319,
           2.174926315789474,
           2.4326842105263156,
           2.690442105263158,
           2.9482
          ],
          [
           -1.9492,
           -1.6914421052631579,
           -1.433684210526316,
           -1.1759263157894737,
           -0.9181684210526315,
           -0.6604105263157893,
           -0.4026526315789474,
           -0.1448947368421052,
           0.112863157894737,
           0.3706210526315792,
           0.6283789473684214,
           0.8861368421052636,
           1.1438947368421053,
           1.4016526315789475,
           1.6594105263157897,
           1.9171684210526319,
           2.174926315789474,
           2.4326842105263156,
           2.690442105263158,
           2.9482
          ],
          [
           -1.9492,
           -1.6914421052631579,
           -1.433684210526316,
           -1.1759263157894737,
           -0.9181684210526315,
           -0.6604105263157893,
           -0.4026526315789474,
           -0.1448947368421052,
           0.112863157894737,
           0.3706210526315792,
           0.6283789473684214,
           0.8861368421052636,
           1.1438947368421053,
           1.4016526315789475,
           1.6594105263157897,
           1.9171684210526319,
           2.174926315789474,
           2.4326842105263156,
           2.690442105263158,
           2.9482
          ],
          [
           -1.9492,
           -1.6914421052631579,
           -1.433684210526316,
           -1.1759263157894737,
           -0.9181684210526315,
           -0.6604105263157893,
           -0.4026526315789474,
           -0.1448947368421052,
           0.112863157894737,
           0.3706210526315792,
           0.6283789473684214,
           0.8861368421052636,
           1.1438947368421053,
           1.4016526315789475,
           1.6594105263157897,
           1.9171684210526319,
           2.174926315789474,
           2.4326842105263156,
           2.690442105263158,
           2.9482
          ],
          [
           -1.9492,
           -1.6914421052631579,
           -1.433684210526316,
           -1.1759263157894737,
           -0.9181684210526315,
           -0.6604105263157893,
           -0.4026526315789474,
           -0.1448947368421052,
           0.112863157894737,
           0.3706210526315792,
           0.6283789473684214,
           0.8861368421052636,
           1.1438947368421053,
           1.4016526315789475,
           1.6594105263157897,
           1.9171684210526319,
           2.174926315789474,
           2.4326842105263156,
           2.690442105263158,
           2.9482
          ],
          [
           -1.9492,
           -1.6914421052631579,
           -1.433684210526316,
           -1.1759263157894737,
           -0.9181684210526315,
           -0.6604105263157893,
           -0.4026526315789474,
           -0.1448947368421052,
           0.112863157894737,
           0.3706210526315792,
           0.6283789473684214,
           0.8861368421052636,
           1.1438947368421053,
           1.4016526315789475,
           1.6594105263157897,
           1.9171684210526319,
           2.174926315789474,
           2.4326842105263156,
           2.690442105263158,
           2.9482
          ],
          [
           -1.9492,
           -1.6914421052631579,
           -1.433684210526316,
           -1.1759263157894737,
           -0.9181684210526315,
           -0.6604105263157893,
           -0.4026526315789474,
           -0.1448947368421052,
           0.112863157894737,
           0.3706210526315792,
           0.6283789473684214,
           0.8861368421052636,
           1.1438947368421053,
           1.4016526315789475,
           1.6594105263157897,
           1.9171684210526319,
           2.174926315789474,
           2.4326842105263156,
           2.690442105263158,
           2.9482
          ],
          [
           -1.9492,
           -1.6914421052631579,
           -1.433684210526316,
           -1.1759263157894737,
           -0.9181684210526315,
           -0.6604105263157893,
           -0.4026526315789474,
           -0.1448947368421052,
           0.112863157894737,
           0.3706210526315792,
           0.6283789473684214,
           0.8861368421052636,
           1.1438947368421053,
           1.4016526315789475,
           1.6594105263157897,
           1.9171684210526319,
           2.174926315789474,
           2.4326842105263156,
           2.690442105263158,
           2.9482
          ],
          [
           -1.9492,
           -1.6914421052631579,
           -1.433684210526316,
           -1.1759263157894737,
           -0.9181684210526315,
           -0.6604105263157893,
           -0.4026526315789474,
           -0.1448947368421052,
           0.112863157894737,
           0.3706210526315792,
           0.6283789473684214,
           0.8861368421052636,
           1.1438947368421053,
           1.4016526315789475,
           1.6594105263157897,
           1.9171684210526319,
           2.174926315789474,
           2.4326842105263156,
           2.690442105263158,
           2.9482
          ]
         ],
         "y": [
          [
           -0.6973,
           -0.6973,
           -0.6973,
           -0.6973,
           -0.6973,
           -0.6973,
           -0.6973,
           -0.6973,
           -0.6973,
           -0.6973,
           -0.6973,
           -0.6973,
           -0.6973,
           -0.6973,
           -0.6973,
           -0.6973,
           -0.6973,
           -0.6973,
           -0.6973,
           -0.6973
          ],
          [
           -0.5738842105263158,
           -0.5738842105263158,
           -0.5738842105263158,
           -0.5738842105263158,
           -0.5738842105263158,
           -0.5738842105263158,
           -0.5738842105263158,
           -0.5738842105263158,
           -0.5738842105263158,
           -0.5738842105263158,
           -0.5738842105263158,
           -0.5738842105263158,
           -0.5738842105263158,
           -0.5738842105263158,
           -0.5738842105263158,
           -0.5738842105263158,
           -0.5738842105263158,
           -0.5738842105263158,
           -0.5738842105263158,
           -0.5738842105263158
          ],
          [
           -0.45046842105263163,
           -0.45046842105263163,
           -0.45046842105263163,
           -0.45046842105263163,
           -0.45046842105263163,
           -0.45046842105263163,
           -0.45046842105263163,
           -0.45046842105263163,
           -0.45046842105263163,
           -0.45046842105263163,
           -0.45046842105263163,
           -0.45046842105263163,
           -0.45046842105263163,
           -0.45046842105263163,
           -0.45046842105263163,
           -0.45046842105263163,
           -0.45046842105263163,
           -0.45046842105263163,
           -0.45046842105263163,
           -0.45046842105263163
          ],
          [
           -0.3270526315789474,
           -0.3270526315789474,
           -0.3270526315789474,
           -0.3270526315789474,
           -0.3270526315789474,
           -0.3270526315789474,
           -0.3270526315789474,
           -0.3270526315789474,
           -0.3270526315789474,
           -0.3270526315789474,
           -0.3270526315789474,
           -0.3270526315789474,
           -0.3270526315789474,
           -0.3270526315789474,
           -0.3270526315789474,
           -0.3270526315789474,
           -0.3270526315789474,
           -0.3270526315789474,
           -0.3270526315789474,
           -0.3270526315789474
          ],
          [
           -0.20363684210526317,
           -0.20363684210526317,
           -0.20363684210526317,
           -0.20363684210526317,
           -0.20363684210526317,
           -0.20363684210526317,
           -0.20363684210526317,
           -0.20363684210526317,
           -0.20363684210526317,
           -0.20363684210526317,
           -0.20363684210526317,
           -0.20363684210526317,
           -0.20363684210526317,
           -0.20363684210526317,
           -0.20363684210526317,
           -0.20363684210526317,
           -0.20363684210526317,
           -0.20363684210526317,
           -0.20363684210526317,
           -0.20363684210526317
          ],
          [
           -0.08022105263157897,
           -0.08022105263157897,
           -0.08022105263157897,
           -0.08022105263157897,
           -0.08022105263157897,
           -0.08022105263157897,
           -0.08022105263157897,
           -0.08022105263157897,
           -0.08022105263157897,
           -0.08022105263157897,
           -0.08022105263157897,
           -0.08022105263157897,
           -0.08022105263157897,
           -0.08022105263157897,
           -0.08022105263157897,
           -0.08022105263157897,
           -0.08022105263157897,
           -0.08022105263157897,
           -0.08022105263157897,
           -0.08022105263157897
          ],
          [
           0.043194736842105286,
           0.043194736842105286,
           0.043194736842105286,
           0.043194736842105286,
           0.043194736842105286,
           0.043194736842105286,
           0.043194736842105286,
           0.043194736842105286,
           0.043194736842105286,
           0.043194736842105286,
           0.043194736842105286,
           0.043194736842105286,
           0.043194736842105286,
           0.043194736842105286,
           0.043194736842105286,
           0.043194736842105286,
           0.043194736842105286,
           0.043194736842105286,
           0.043194736842105286,
           0.043194736842105286
          ],
          [
           0.16661052631578943,
           0.16661052631578943,
           0.16661052631578943,
           0.16661052631578943,
           0.16661052631578943,
           0.16661052631578943,
           0.16661052631578943,
           0.16661052631578943,
           0.16661052631578943,
           0.16661052631578943,
           0.16661052631578943,
           0.16661052631578943,
           0.16661052631578943,
           0.16661052631578943,
           0.16661052631578943,
           0.16661052631578943,
           0.16661052631578943,
           0.16661052631578943,
           0.16661052631578943,
           0.16661052631578943
          ],
          [
           0.2900263157894737,
           0.2900263157894737,
           0.2900263157894737,
           0.2900263157894737,
           0.2900263157894737,
           0.2900263157894737,
           0.2900263157894737,
           0.2900263157894737,
           0.2900263157894737,
           0.2900263157894737,
           0.2900263157894737,
           0.2900263157894737,
           0.2900263157894737,
           0.2900263157894737,
           0.2900263157894737,
           0.2900263157894737,
           0.2900263157894737,
           0.2900263157894737,
           0.2900263157894737,
           0.2900263157894737
          ],
          [
           0.41344210526315783,
           0.41344210526315783,
           0.41344210526315783,
           0.41344210526315783,
           0.41344210526315783,
           0.41344210526315783,
           0.41344210526315783,
           0.41344210526315783,
           0.41344210526315783,
           0.41344210526315783,
           0.41344210526315783,
           0.41344210526315783,
           0.41344210526315783,
           0.41344210526315783,
           0.41344210526315783,
           0.41344210526315783,
           0.41344210526315783,
           0.41344210526315783,
           0.41344210526315783,
           0.41344210526315783
          ],
          [
           0.5368578947368421,
           0.5368578947368421,
           0.5368578947368421,
           0.5368578947368421,
           0.5368578947368421,
           0.5368578947368421,
           0.5368578947368421,
           0.5368578947368421,
           0.5368578947368421,
           0.5368578947368421,
           0.5368578947368421,
           0.5368578947368421,
           0.5368578947368421,
           0.5368578947368421,
           0.5368578947368421,
           0.5368578947368421,
           0.5368578947368421,
           0.5368578947368421,
           0.5368578947368421,
           0.5368578947368421
          ],
          [
           0.6602736842105263,
           0.6602736842105263,
           0.6602736842105263,
           0.6602736842105263,
           0.6602736842105263,
           0.6602736842105263,
           0.6602736842105263,
           0.6602736842105263,
           0.6602736842105263,
           0.6602736842105263,
           0.6602736842105263,
           0.6602736842105263,
           0.6602736842105263,
           0.6602736842105263,
           0.6602736842105263,
           0.6602736842105263,
           0.6602736842105263,
           0.6602736842105263,
           0.6602736842105263,
           0.6602736842105263
          ],
          [
           0.7836894736842106,
           0.7836894736842106,
           0.7836894736842106,
           0.7836894736842106,
           0.7836894736842106,
           0.7836894736842106,
           0.7836894736842106,
           0.7836894736842106,
           0.7836894736842106,
           0.7836894736842106,
           0.7836894736842106,
           0.7836894736842106,
           0.7836894736842106,
           0.7836894736842106,
           0.7836894736842106,
           0.7836894736842106,
           0.7836894736842106,
           0.7836894736842106,
           0.7836894736842106,
           0.7836894736842106
          ],
          [
           0.9071052631578949,
           0.9071052631578949,
           0.9071052631578949,
           0.9071052631578949,
           0.9071052631578949,
           0.9071052631578949,
           0.9071052631578949,
           0.9071052631578949,
           0.9071052631578949,
           0.9071052631578949,
           0.9071052631578949,
           0.9071052631578949,
           0.9071052631578949,
           0.9071052631578949,
           0.9071052631578949,
           0.9071052631578949,
           0.9071052631578949,
           0.9071052631578949,
           0.9071052631578949,
           0.9071052631578949
          ],
          [
           1.030521052631579,
           1.030521052631579,
           1.030521052631579,
           1.030521052631579,
           1.030521052631579,
           1.030521052631579,
           1.030521052631579,
           1.030521052631579,
           1.030521052631579,
           1.030521052631579,
           1.030521052631579,
           1.030521052631579,
           1.030521052631579,
           1.030521052631579,
           1.030521052631579,
           1.030521052631579,
           1.030521052631579,
           1.030521052631579,
           1.030521052631579,
           1.030521052631579
          ],
          [
           1.1539368421052631,
           1.1539368421052631,
           1.1539368421052631,
           1.1539368421052631,
           1.1539368421052631,
           1.1539368421052631,
           1.1539368421052631,
           1.1539368421052631,
           1.1539368421052631,
           1.1539368421052631,
           1.1539368421052631,
           1.1539368421052631,
           1.1539368421052631,
           1.1539368421052631,
           1.1539368421052631,
           1.1539368421052631,
           1.1539368421052631,
           1.1539368421052631,
           1.1539368421052631,
           1.1539368421052631
          ],
          [
           1.2773526315789474,
           1.2773526315789474,
           1.2773526315789474,
           1.2773526315789474,
           1.2773526315789474,
           1.2773526315789474,
           1.2773526315789474,
           1.2773526315789474,
           1.2773526315789474,
           1.2773526315789474,
           1.2773526315789474,
           1.2773526315789474,
           1.2773526315789474,
           1.2773526315789474,
           1.2773526315789474,
           1.2773526315789474,
           1.2773526315789474,
           1.2773526315789474,
           1.2773526315789474,
           1.2773526315789474
          ],
          [
           1.4007684210526314,
           1.4007684210526314,
           1.4007684210526314,
           1.4007684210526314,
           1.4007684210526314,
           1.4007684210526314,
           1.4007684210526314,
           1.4007684210526314,
           1.4007684210526314,
           1.4007684210526314,
           1.4007684210526314,
           1.4007684210526314,
           1.4007684210526314,
           1.4007684210526314,
           1.4007684210526314,
           1.4007684210526314,
           1.4007684210526314,
           1.4007684210526314,
           1.4007684210526314,
           1.4007684210526314
          ],
          [
           1.5241842105263157,
           1.5241842105263157,
           1.5241842105263157,
           1.5241842105263157,
           1.5241842105263157,
           1.5241842105263157,
           1.5241842105263157,
           1.5241842105263157,
           1.5241842105263157,
           1.5241842105263157,
           1.5241842105263157,
           1.5241842105263157,
           1.5241842105263157,
           1.5241842105263157,
           1.5241842105263157,
           1.5241842105263157,
           1.5241842105263157,
           1.5241842105263157,
           1.5241842105263157,
           1.5241842105263157
          ],
          [
           1.6476,
           1.6476,
           1.6476,
           1.6476,
           1.6476,
           1.6476,
           1.6476,
           1.6476,
           1.6476,
           1.6476,
           1.6476,
           1.6476,
           1.6476,
           1.6476,
           1.6476,
           1.6476,
           1.6476,
           1.6476,
           1.6476,
           1.6476
          ]
         ],
         "z": [
          [
           -2.539110213745958,
           -1.9800303472184055,
           -1.4209504806908533,
           -0.8618706141632992,
           -0.3027907476357469,
           0.2562891188918062,
           0.8153689854193589,
           1.3744488519469116,
           1.9335287184744647,
           2.492608585002018,
           3.051688451529571,
           3.610768318057124,
           4.1698481845846755,
           4.728928051112229,
           5.288007917639782,
           5.847087784167334,
           6.406167650694886,
           6.965247517222439,
           7.524327383749993,
           8.083407250277546
          ],
          [
           -2.084520086735783,
           -1.5254402202082304,
           -0.9663603536806781,
           -0.40728048715312415,
           0.1517993793744282,
           0.7108792459019814,
           1.269959112429534,
           1.8290389789570867,
           2.38811884548464,
           2.947198712012193,
           3.5062785785397463,
           4.065358445067298,
           4.624438311594851,
           5.183518178122404,
           5.742598044649957,
           6.301677911177509,
           6.860757777705062,
           7.419837644232614,
           7.978917510760169,
           8.537997377287722
          ],
          [
           -1.6299299597256085,
           -1.0708500931980554,
           -0.511770226670503,
           0.04730963985705018,
           0.6063895063846033,
           1.1654693729121564,
           1.7245492394397088,
           2.283629105967262,
           2.8427089724948145,
           3.401788839022368,
           3.9608687055499203,
           4.519948572077474,
           5.079028438605026,
           5.638108305132579,
           6.197188171660132,
           6.7562680381876845,
           7.315347904715237,
           7.8744277712427895,
           8.433507637770344,
           8.992587504297896
          ],
          [
           -1.1753398327154332,
           -0.6162599661878801,
           -0.057180099660327825,
           0.5018997668672253,
           1.0609796333947785,
           1.6200594999223317,
           2.179139366449884,
           2.738219232977437,
           3.29729909950499,
           3.8563789660325427,
           4.415458832560096,
           4.974538699087649,
           5.5336185656152015,
           6.092698432142753,
           6.651778298670307,
           7.21085816519786,
           7.769938031725412,
           8.329017898252964,
           8.888097764780518,
           9.44717763130807
          ],
          [
           -0.7207497057052581,
           -0.161669839177705,
           0.3974100273498473,
           0.9564898938774005,
           1.5155697604049536,
           2.0746496269325063,
           2.6337294934600592,
           3.1928093599876117,
           3.751889226515165,
           4.310969093042718,
           4.870048959570271,
           5.429128826097824,
           5.988208692625376,
           6.547288559152928,
           7.106368425680483,
           7.665448292208035,
           8.224528158735588,
           8.78360802526314,
           9.342687891790693,
           9.901767758318245
          ],
          [
           -0.266159578695083,
           0.29292028783247015,
           0.8520001543600221,
           1.4110800208875751,
           1.9701598874151283,
           2.5292397539426816,
           3.0883196204702337,
           3.647399486997787,
           4.2064793535253395,
           4.765559220052893,
           5.324639086580446,
           5.883718953107999,
           6.44279881963555,
           7.001878686163104,
           7.560958552690658,
           8.12003841921821,
           8.679118285745762,
           9.238198152273315,
           9.797278018800869,
           10.356357885328421
          ],
          [
           0.18843054831509212,
           0.7475104148426448,
           1.306590281370197,
           1.8656701478977502,
           2.424750014425304,
           2.9838298809528565,
           3.542909747480409,
           4.1019896140079615,
           4.661069480535515,
           5.220149347063068,
           5.779229213590621,
           6.338309080118174,
           6.897388946645726,
           7.456468813173279,
           8.015548679700832,
           8.574628546228386,
           9.133708412755938,
           9.692788279283489,
           10.251868145811043,
           10.810948012338596
          ],
          [
           0.6430206753252664,
           1.2021005418528194,
           1.761180408380372,
           2.320260274907925,
           2.879340141435478,
           3.4384200079630314,
           3.9974998744905834,
           4.556579741018137,
           5.11565960754569,
           5.674739474073243,
           6.233819340600795,
           6.7928992071283485,
           7.3519790736559,
           7.911058940183454,
           8.470138806711008,
           9.02921867323856,
           9.588298539766113,
           10.147378406293665,
           10.706458272821218,
           11.26553813934877
          ],
          [
           1.0976108023354416,
           1.6566906688629948,
           2.215770535390547,
           2.7748504019181,
           3.3339302684456533,
           3.8930101349732062,
           4.452090001500759,
           5.011169868028312,
           5.570249734555865,
           6.129329601083418,
           6.68840946761097,
           7.247489334138524,
           7.806569200666077,
           8.36564906719363,
           8.924728933721182,
           9.483808800248733,
           10.042888666776285,
           10.601968533303838,
           11.161048399831394,
           11.720128266358946
          ],
          [
           1.5522009293456167,
           2.11128079587317,
           2.6703606624007223,
           3.2294405289282753,
           3.788520395455828,
           4.347600261983381,
           4.906680128510934,
           5.465759995038487,
           6.024839861566039,
           6.583919728093592,
           7.142999594621146,
           7.702079461148698,
           8.26115932767625,
           8.820239194203802,
           9.379319060731357,
           9.93839892725891,
           10.497478793786463,
           11.056558660314016,
           11.615638526841568,
           12.174718393369119
          ],
          [
           2.006791056355792,
           2.565870922883345,
           3.124950789410897,
           3.6840306559384506,
           4.2431105224660035,
           4.802190388993557,
           5.361270255521109,
           5.920350122048662,
           6.479429988576214,
           7.038509855103769,
           7.597589721631321,
           8.156669588158875,
           8.715749454686428,
           9.274829321213979,
           9.833909187741531,
           10.392989054269083,
           10.952068920796636,
           11.511148787324188,
           12.070228653851744,
           12.629308520379297
          ],
          [
           2.461381183365967,
           3.02046104989352,
           3.5795409164210725,
           4.1386207829486255,
           4.697700649476179,
           5.256780516003732,
           5.815860382531284,
           6.374940249058837,
           6.93402011558639,
           7.493099982113944,
           8.052179848641495,
           8.611259715169048,
           9.1703395816966,
           9.729419448224153,
           10.288499314751709,
           10.847579181279261,
           11.406659047806812,
           11.965738914334365,
           12.524818780861917,
           13.08389864738947
          ],
          [
           2.915971310376142,
           3.4750511769036954,
           4.034131043431247,
           4.593210909958801,
           5.152290776486354,
           5.711370643013907,
           6.270450509541459,
           6.8295303760690125,
           7.388610242596565,
           7.947690109124118,
           8.506769975651672,
           9.065849842179224,
           9.624929708706777,
           10.18400957523433,
           10.743089441761882,
           11.302169308289434,
           11.861249174816987,
           12.420329041344539,
           12.979408907872095,
           13.538488774399648
          ],
          [
           3.3705614373863173,
           3.9296413039138702,
           4.488721170441423,
           5.047801036968976,
           5.606880903496529,
           6.165960770024082,
           6.725040636551634,
           7.284120503079188,
           7.84320036960674,
           8.402280236134294,
           8.961360102661846,
           9.520439969189399,
           10.079519835716951,
           10.638599702244504,
           11.197679568772058,
           11.75675943529961,
           12.315839301827163,
           12.874919168354715,
           13.433999034882268,
           13.99307890140982
          ],
          [
           3.8251515643964917,
           4.384231430924045,
           4.943311297451597,
           5.5023911639791505,
           6.061471030506703,
           6.620550897034256,
           7.179630763561809,
           7.738710630089362,
           8.297790496616916,
           8.856870363144468,
           9.415950229672019,
           9.975030096199573,
           10.534109962727124,
           11.09318982925468,
           11.652269695782232,
           12.211349562309785,
           12.770429428837337,
           13.32950929536489,
           13.888589161892442,
           14.447669028419993
          ],
          [
           4.279741691406667,
           4.83882155793422,
           5.3979014244617725,
           5.956981290989325,
           6.516061157516878,
           7.075141024044432,
           7.634220890571984,
           8.193300757099536,
           8.75238062362709,
           9.311460490154642,
           9.870540356682197,
           10.42962022320975,
           10.988700089737302,
           11.547779956264854,
           12.106859822792405,
           12.665939689319957,
           13.22501955584751,
           13.784099422375062,
           14.343179288902618,
           14.90225915543017
          ],
          [
           4.734331818416842,
           5.293411684944395,
           5.852491551471947,
           6.4115714179995,
           6.970651284527054,
           7.529731151054607,
           8.08881101758216,
           8.647890884109714,
           9.206970750637264,
           9.766050617164817,
           10.32513048369237,
           10.884210350219924,
           11.443290216747474,
           12.00237008327503,
           12.561449949802583,
           13.120529816330135,
           13.679609682857688,
           14.238689549385239,
           14.797769415912791,
           15.356849282440344
          ],
          [
           5.188921945427016,
           5.748001811954569,
           6.307081678482121,
           6.866161545009675,
           7.425241411537228,
           7.984321278064781,
           8.543401144592334,
           9.102481011119886,
           9.661560877647439,
           10.220640744174991,
           10.779720610702546,
           11.338800477230098,
           11.89788034375765,
           12.456960210285203,
           13.016040076812756,
           13.575119943340308,
           14.13419980986786,
           14.693279676395413,
           15.252359542922969,
           15.811439409450522
          ],
          [
           5.643512072437191,
           6.202591938964744,
           6.761671805492297,
           7.32075167201985,
           7.879831538547403,
           8.438911405074956,
           8.997991271602508,
           9.55707113813006,
           10.116151004657615,
           10.675230871185168,
           11.23431073771272,
           11.793390604240273,
           12.352470470767825,
           12.911550337295377,
           13.470630203822934,
           14.029710070350484,
           14.588789936878037,
           15.14786980340559,
           15.706949669933142,
           16.266029536460696
          ],
          [
           6.098102199447366,
           6.6571820659749195,
           7.216261932502472,
           7.775341799030024,
           8.334421665557578,
           8.893501532085132,
           9.452581398612685,
           10.011661265140237,
           10.57074113166779,
           11.129820998195342,
           11.688900864722896,
           12.247980731250449,
           12.807060597778001,
           13.366140464305554,
           13.925220330833106,
           14.484300197360659,
           15.043380063888211,
           15.602459930415764,
           16.16153979694332,
           16.72061966347087
          ]
         ]
        },
        {
         "marker": {
          "color": [
           "red",
           "red",
           "red",
           "blue",
           "blue",
           "red",
           "blue",
           "red",
           "blue",
           "blue",
           "red",
           "blue",
           "red",
           "red",
           "red",
           "red",
           "blue",
           "blue",
           "blue",
           "blue",
           "red",
           "blue",
           "blue",
           "blue",
           "blue",
           "red",
           "red",
           "blue",
           "red",
           "blue"
          ],
          "line": {
           "color": "white",
           "width": 1
          },
          "opacity": 0.8,
          "size": 8
         },
         "mode": "markers",
         "name": "Amostras",
         "type": "scatter3d",
         "x": [
          -0.6508,
          -1.4492,
          2.085,
          0.2626,
          0.6418,
          0.2569,
          1.1155,
          0.0914,
          0.0121,
          -0.0429,
          0.434,
          0.2735,
          0.4839,
          0.4089,
          1.4391,
          -0.9115,
          0.3654,
          0.2144,
          0.2013,
          0.6483,
          -0.1147,
          -0.797,
          -1.0625,
          0.5307,
          -1.22,
          0.3957,
          -0.1013,
          2.4482,
          2.0149,
          0.2012
         ],
         "y": [
          0.1097,
          0.8896,
          0.6876,
          1.1476,
          1.0234,
          0.673,
          0.6043,
          0.3399,
          0.5256,
          0.466,
          0.687,
          1.0287,
          0.4851,
          -0.1267,
          0.1614,
          -0.1973,
          1.0475,
          0.7515,
          1.0014,
          0.2183,
          0.2242,
          0.8795,
          0.6366,
          0.1285,
          0.7777,
          0.1076,
          0.5989,
          0.9455,
          0.6192,
          0.2611
         ],
         "z": [
          4.0009,
          4.4005,
          12.071,
          7.7985,
          7.0427,
          8.3265,
          7.4446,
          7.0677,
          4.6316,
          5.4323,
          8.2287,
          7.1934,
          7.485,
          5.5019,
          8.5843,
          2.1962,
          7.4858,
          7.1699,
          6.5489,
          5.8991,
          7.2435,
          3.8762,
          2.4707,
          5.6883,
          1.7252,
          5.6623,
          7.1812,
          11.2095,
          10.9263,
          5.4631
         ]
        }
       ],
       "layout": {
        "height": 600,
        "scene": {
         "xaxis": {
          "title": {
           "text": "x1"
          }
         },
         "yaxis": {
          "title": {
           "text": "x2"
          }
         },
         "zaxis": {
          "title": {
           "text": "x3"
          }
         }
        },
        "template": {
         "data": {
          "bar": [
           {
            "error_x": {
             "color": "#2a3f5f"
            },
            "error_y": {
             "color": "#2a3f5f"
            },
            "marker": {
             "line": {
              "color": "#E5ECF6",
              "width": 0.5
             },
             "pattern": {
              "fillmode": "overlay",
              "size": 10,
              "solidity": 0.2
             }
            },
            "type": "bar"
           }
          ],
          "barpolar": [
           {
            "marker": {
             "line": {
              "color": "#E5ECF6",
              "width": 0.5
             },
             "pattern": {
              "fillmode": "overlay",
              "size": 10,
              "solidity": 0.2
             }
            },
            "type": "barpolar"
           }
          ],
          "carpet": [
           {
            "aaxis": {
             "endlinecolor": "#2a3f5f",
             "gridcolor": "white",
             "linecolor": "white",
             "minorgridcolor": "white",
             "startlinecolor": "#2a3f5f"
            },
            "baxis": {
             "endlinecolor": "#2a3f5f",
             "gridcolor": "white",
             "linecolor": "white",
             "minorgridcolor": "white",
             "startlinecolor": "#2a3f5f"
            },
            "type": "carpet"
           }
          ],
          "choropleth": [
           {
            "colorbar": {
             "outlinewidth": 0,
             "ticks": ""
            },
            "type": "choropleth"
           }
          ],
          "contour": [
           {
            "colorbar": {
             "outlinewidth": 0,
             "ticks": ""
            },
            "colorscale": [
             [
              0,
              "#0d0887"
             ],
             [
              0.1111111111111111,
              "#46039f"
             ],
             [
              0.2222222222222222,
              "#7201a8"
             ],
             [
              0.3333333333333333,
              "#9c179e"
             ],
             [
              0.4444444444444444,
              "#bd3786"
             ],
             [
              0.5555555555555556,
              "#d8576b"
             ],
             [
              0.6666666666666666,
              "#ed7953"
             ],
             [
              0.7777777777777778,
              "#fb9f3a"
             ],
             [
              0.8888888888888888,
              "#fdca26"
             ],
             [
              1,
              "#f0f921"
             ]
            ],
            "type": "contour"
           }
          ],
          "contourcarpet": [
           {
            "colorbar": {
             "outlinewidth": 0,
             "ticks": ""
            },
            "type": "contourcarpet"
           }
          ],
          "heatmap": [
           {
            "colorbar": {
             "outlinewidth": 0,
             "ticks": ""
            },
            "colorscale": [
             [
              0,
              "#0d0887"
             ],
             [
              0.1111111111111111,
              "#46039f"
             ],
             [
              0.2222222222222222,
              "#7201a8"
             ],
             [
              0.3333333333333333,
              "#9c179e"
             ],
             [
              0.4444444444444444,
              "#bd3786"
             ],
             [
              0.5555555555555556,
              "#d8576b"
             ],
             [
              0.6666666666666666,
              "#ed7953"
             ],
             [
              0.7777777777777778,
              "#fb9f3a"
             ],
             [
              0.8888888888888888,
              "#fdca26"
             ],
             [
              1,
              "#f0f921"
             ]
            ],
            "type": "heatmap"
           }
          ],
          "heatmapgl": [
           {
            "colorbar": {
             "outlinewidth": 0,
             "ticks": ""
            },
            "colorscale": [
             [
              0,
              "#0d0887"
             ],
             [
              0.1111111111111111,
              "#46039f"
             ],
             [
              0.2222222222222222,
              "#7201a8"
             ],
             [
              0.3333333333333333,
              "#9c179e"
             ],
             [
              0.4444444444444444,
              "#bd3786"
             ],
             [
              0.5555555555555556,
              "#d8576b"
             ],
             [
              0.6666666666666666,
              "#ed7953"
             ],
             [
              0.7777777777777778,
              "#fb9f3a"
             ],
             [
              0.8888888888888888,
              "#fdca26"
             ],
             [
              1,
              "#f0f921"
             ]
            ],
            "type": "heatmapgl"
           }
          ],
          "histogram": [
           {
            "marker": {
             "pattern": {
              "fillmode": "overlay",
              "size": 10,
              "solidity": 0.2
             }
            },
            "type": "histogram"
           }
          ],
          "histogram2d": [
           {
            "colorbar": {
             "outlinewidth": 0,
             "ticks": ""
            },
            "colorscale": [
             [
              0,
              "#0d0887"
             ],
             [
              0.1111111111111111,
              "#46039f"
             ],
             [
              0.2222222222222222,
              "#7201a8"
             ],
             [
              0.3333333333333333,
              "#9c179e"
             ],
             [
              0.4444444444444444,
              "#bd3786"
             ],
             [
              0.5555555555555556,
              "#d8576b"
             ],
             [
              0.6666666666666666,
              "#ed7953"
             ],
             [
              0.7777777777777778,
              "#fb9f3a"
             ],
             [
              0.8888888888888888,
              "#fdca26"
             ],
             [
              1,
              "#f0f921"
             ]
            ],
            "type": "histogram2d"
           }
          ],
          "histogram2dcontour": [
           {
            "colorbar": {
             "outlinewidth": 0,
             "ticks": ""
            },
            "colorscale": [
             [
              0,
              "#0d0887"
             ],
             [
              0.1111111111111111,
              "#46039f"
             ],
             [
              0.2222222222222222,
              "#7201a8"
             ],
             [
              0.3333333333333333,
              "#9c179e"
             ],
             [
              0.4444444444444444,
              "#bd3786"
             ],
             [
              0.5555555555555556,
              "#d8576b"
             ],
             [
              0.6666666666666666,
              "#ed7953"
             ],
             [
              0.7777777777777778,
              "#fb9f3a"
             ],
             [
              0.8888888888888888,
              "#fdca26"
             ],
             [
              1,
              "#f0f921"
             ]
            ],
            "type": "histogram2dcontour"
           }
          ],
          "mesh3d": [
           {
            "colorbar": {
             "outlinewidth": 0,
             "ticks": ""
            },
            "type": "mesh3d"
           }
          ],
          "parcoords": [
           {
            "line": {
             "colorbar": {
              "outlinewidth": 0,
              "ticks": ""
             }
            },
            "type": "parcoords"
           }
          ],
          "pie": [
           {
            "automargin": true,
            "type": "pie"
           }
          ],
          "scatter": [
           {
            "fillpattern": {
             "fillmode": "overlay",
             "size": 10,
             "solidity": 0.2
            },
            "type": "scatter"
           }
          ],
          "scatter3d": [
           {
            "line": {
             "colorbar": {
              "outlinewidth": 0,
              "ticks": ""
             }
            },
            "marker": {
             "colorbar": {
              "outlinewidth": 0,
              "ticks": ""
             }
            },
            "type": "scatter3d"
           }
          ],
          "scattercarpet": [
           {
            "marker": {
             "colorbar": {
              "outlinewidth": 0,
              "ticks": ""
             }
            },
            "type": "scattercarpet"
           }
          ],
          "scattergeo": [
           {
            "marker": {
             "colorbar": {
              "outlinewidth": 0,
              "ticks": ""
             }
            },
            "type": "scattergeo"
           }
          ],
          "scattergl": [
           {
            "marker": {
             "colorbar": {
              "outlinewidth": 0,
              "ticks": ""
             }
            },
            "type": "scattergl"
           }
          ],
          "scattermapbox": [
           {
            "marker": {
             "colorbar": {
              "outlinewidth": 0,
              "ticks": ""
             }
            },
            "type": "scattermapbox"
           }
          ],
          "scatterpolar": [
           {
            "marker": {
             "colorbar": {
              "outlinewidth": 0,
              "ticks": ""
             }
            },
            "type": "scatterpolar"
           }
          ],
          "scatterpolargl": [
           {
            "marker": {
             "colorbar": {
              "outlinewidth": 0,
              "ticks": ""
             }
            },
            "type": "scatterpolargl"
           }
          ],
          "scatterternary": [
           {
            "marker": {
             "colorbar": {
              "outlinewidth": 0,
              "ticks": ""
             }
            },
            "type": "scatterternary"
           }
          ],
          "surface": [
           {
            "colorbar": {
             "outlinewidth": 0,
             "ticks": ""
            },
            "colorscale": [
             [
              0,
              "#0d0887"
             ],
             [
              0.1111111111111111,
              "#46039f"
             ],
             [
              0.2222222222222222,
              "#7201a8"
             ],
             [
              0.3333333333333333,
              "#9c179e"
             ],
             [
              0.4444444444444444,
              "#bd3786"
             ],
             [
              0.5555555555555556,
              "#d8576b"
             ],
             [
              0.6666666666666666,
              "#ed7953"
             ],
             [
              0.7777777777777778,
              "#fb9f3a"
             ],
             [
              0.8888888888888888,
              "#fdca26"
             ],
             [
              1,
              "#f0f921"
             ]
            ],
            "type": "surface"
           }
          ],
          "table": [
           {
            "cells": {
             "fill": {
              "color": "#EBF0F8"
             },
             "line": {
              "color": "white"
             }
            },
            "header": {
             "fill": {
              "color": "#C8D4E3"
             },
             "line": {
              "color": "white"
             }
            },
            "type": "table"
           }
          ]
         },
         "layout": {
          "annotationdefaults": {
           "arrowcolor": "#2a3f5f",
           "arrowhead": 0,
           "arrowwidth": 1
          },
          "autotypenumbers": "strict",
          "coloraxis": {
           "colorbar": {
            "outlinewidth": 0,
            "ticks": ""
           }
          },
          "colorscale": {
           "diverging": [
            [
             0,
             "#8e0152"
            ],
            [
             0.1,
             "#c51b7d"
            ],
            [
             0.2,
             "#de77ae"
            ],
            [
             0.3,
             "#f1b6da"
            ],
            [
             0.4,
             "#fde0ef"
            ],
            [
             0.5,
             "#f7f7f7"
            ],
            [
             0.6,
             "#e6f5d0"
            ],
            [
             0.7,
             "#b8e186"
            ],
            [
             0.8,
             "#7fbc41"
            ],
            [
             0.9,
             "#4d9221"
            ],
            [
             1,
             "#276419"
            ]
           ],
           "sequential": [
            [
             0,
             "#0d0887"
            ],
            [
             0.1111111111111111,
             "#46039f"
            ],
            [
             0.2222222222222222,
             "#7201a8"
            ],
            [
             0.3333333333333333,
             "#9c179e"
            ],
            [
             0.4444444444444444,
             "#bd3786"
            ],
            [
             0.5555555555555556,
             "#d8576b"
            ],
            [
             0.6666666666666666,
             "#ed7953"
            ],
            [
             0.7777777777777778,
             "#fb9f3a"
            ],
            [
             0.8888888888888888,
             "#fdca26"
            ],
            [
             1,
             "#f0f921"
            ]
           ],
           "sequentialminus": [
            [
             0,
             "#0d0887"
            ],
            [
             0.1111111111111111,
             "#46039f"
            ],
            [
             0.2222222222222222,
             "#7201a8"
            ],
            [
             0.3333333333333333,
             "#9c179e"
            ],
            [
             0.4444444444444444,
             "#bd3786"
            ],
            [
             0.5555555555555556,
             "#d8576b"
            ],
            [
             0.6666666666666666,
             "#ed7953"
            ],
            [
             0.7777777777777778,
             "#fb9f3a"
            ],
            [
             0.8888888888888888,
             "#fdca26"
            ],
            [
             1,
             "#f0f921"
            ]
           ]
          },
          "colorway": [
           "#636efa",
           "#EF553B",
           "#00cc96",
           "#ab63fa",
           "#FFA15A",
           "#19d3f3",
           "#FF6692",
           "#B6E880",
           "#FF97FF",
           "#FECB52"
          ],
          "font": {
           "color": "#2a3f5f"
          },
          "geo": {
           "bgcolor": "white",
           "lakecolor": "white",
           "landcolor": "#E5ECF6",
           "showlakes": true,
           "showland": true,
           "subunitcolor": "white"
          },
          "hoverlabel": {
           "align": "left"
          },
          "hovermode": "closest",
          "mapbox": {
           "style": "light"
          },
          "paper_bgcolor": "white",
          "plot_bgcolor": "#E5ECF6",
          "polar": {
           "angularaxis": {
            "gridcolor": "white",
            "linecolor": "white",
            "ticks": ""
           },
           "bgcolor": "#E5ECF6",
           "radialaxis": {
            "gridcolor": "white",
            "linecolor": "white",
            "ticks": ""
           }
          },
          "scene": {
           "xaxis": {
            "backgroundcolor": "#E5ECF6",
            "gridcolor": "white",
            "gridwidth": 2,
            "linecolor": "white",
            "showbackground": true,
            "ticks": "",
            "zerolinecolor": "white"
           },
           "yaxis": {
            "backgroundcolor": "#E5ECF6",
            "gridcolor": "white",
            "gridwidth": 2,
            "linecolor": "white",
            "showbackground": true,
            "ticks": "",
            "zerolinecolor": "white"
           },
           "zaxis": {
            "backgroundcolor": "#E5ECF6",
            "gridcolor": "white",
            "gridwidth": 2,
            "linecolor": "white",
            "showbackground": true,
            "ticks": "",
            "zerolinecolor": "white"
           }
          },
          "shapedefaults": {
           "line": {
            "color": "#2a3f5f"
           }
          },
          "ternary": {
           "aaxis": {
            "gridcolor": "white",
            "linecolor": "white",
            "ticks": ""
           },
           "baxis": {
            "gridcolor": "white",
            "linecolor": "white",
            "ticks": ""
           },
           "bgcolor": "#E5ECF6",
           "caxis": {
            "gridcolor": "white",
            "linecolor": "white",
            "ticks": ""
           }
          },
          "title": {
           "x": 0.05
          },
          "xaxis": {
           "automargin": true,
           "gridcolor": "white",
           "linecolor": "white",
           "ticks": "",
           "title": {
            "standoff": 15
           },
           "zerolinecolor": "white",
           "zerolinewidth": 2
          },
          "yaxis": {
           "automargin": true,
           "gridcolor": "white",
           "linecolor": "white",
           "ticks": "",
           "title": {
            "standoff": 15
           },
           "zerolinecolor": "white",
           "zerolinewidth": 2
          }
         }
        },
        "title": {
         "text": "Classificação"
        },
        "width": 800
       }
      }
     },
     "metadata": {},
     "output_type": "display_data"
    }
   ],
   "source": [
    "#criar grafico 3d interativo\n",
    "colors = ['red' if y == -1 else 'blue' for y in yhat]\n",
    "\n",
    "#criar malha para o hiperplano\n",
    "x1_range = np.linspace(x[:, 0].min() - 0.5, x[:, 0].max() + 0.5, 20)\n",
    "x2_range = np.linspace(x[:, 1].min() - 0.5, x[:, 1].max() + 0.5, 20)\n",
    "x1_grid, x2_grid = np.meshgrid(x1_range, x2_range)\n",
    "\n",
    "#calcular x3 para o hiperplano: w0*x1 + w1*x2 + w2*x3 + w3*(-1) = 0\n",
    "#x3 = (w0*x1 + w1*x2 - w3) / (-w2)\n",
    "x3_grid = (w[0] * x1_grid + w[1] * x2_grid - w[3]) / (-w[2])\n",
    "\n",
    "fig = go.Figure()\n",
    "\n",
    "#adicionar o hiperplano\n",
    "fig.add_trace(go.Surface(\n",
    "   x=x1_grid,\n",
    "   y=x2_grid,\n",
    "   z=x3_grid,\n",
    "   colorscale='gray',\n",
    "   opacity=0.3,\n",
    "   showscale=False,\n",
    "   name='Hiperplano'\n",
    "))\n",
    "\n",
    "#adicionar os pontos\n",
    "fig.add_trace(go.Scatter3d(\n",
    "   x=x[:, 0],\n",
    "   y=x[:, 1],\n",
    "   z=x[:, 2],\n",
    "   mode='markers',\n",
    "   marker=dict(\n",
    "      size=8,\n",
    "      color=colors,\n",
    "      opacity=0.8,\n",
    "      line=dict(width=1, color='white')\n",
    "   ),\n",
    "   name='Amostras'\n",
    "))\n",
    "\n",
    "fig.update_layout(\n",
    "   title='Classificação',\n",
    "   scene=dict(\n",
    "      xaxis_title='x1',\n",
    "      yaxis_title='x2',\n",
    "      zaxis_title='x3'\n",
    "   ),\n",
    "   width=800,\n",
    "   height=600\n",
    ")\n",
    "\n",
    "fig.show()"
   ]
  }
 ],
 "metadata": {
  "kernelspec": {
   "display_name": "base",
   "language": "python",
   "name": "python3"
  },
  "language_info": {
   "codemirror_mode": {
    "name": "ipython",
    "version": 3
   },
   "file_extension": ".py",
   "mimetype": "text/x-python",
   "name": "python",
   "nbconvert_exporter": "python",
   "pygments_lexer": "ipython3",
   "version": "3.13.5"
  }
 },
 "nbformat": 4,
 "nbformat_minor": 5
}
