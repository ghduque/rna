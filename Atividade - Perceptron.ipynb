{
 "cells": [
  {
   "cell_type": "markdown",
   "id": "766b175c",
   "metadata": {},
   "source": [
    "# ATIVIDADE - PERCEPTRON\n",
    "\n",
    "**Instituto Federal de Minas Gerais** \n",
    "\n",
    "*Engenharia de Computação*\n",
    "\n",
    "Aluno: Gabriel Henrique Silva Duque"
   ]
  },
  {
   "cell_type": "code",
   "execution_count": 17,
   "id": "4eb5b8a3",
   "metadata": {},
   "outputs": [],
   "source": [
    "#importação de pacotes\n",
    "import pandas as pd\n",
    "import numpy as np\n",
    "import pygwalker as pyg\n",
    "import matplotlib.pyplot as plt\n",
    "from sklearn.metrics import confusion_matrix, classification_report\n",
    "import seaborn as sns\n",
    "import plotly.graph_objects as go"
   ]
  },
  {
   "cell_type": "code",
   "execution_count": 18,
   "id": "77a27529",
   "metadata": {},
   "outputs": [],
   "source": [
    "#funcoes\n",
    "#degrau bipolar\n",
    "def degrauBipolar(u): \n",
    " if u >= 0:  \n",
    "  y = 1\n",
    " else: \n",
    "  y = -1\n",
    " return y\n",
    "\n",
    "#funcao que classifica a amostra com base na rede ja treinada \n",
    "def previsao(w, x):\n",
    " u = np.dot(w.T, x)\n",
    " yhat = degrauBipolar(u)\n",
    " return yhat"
   ]
  },
  {
   "cell_type": "markdown",
   "id": "ca81bbaf",
   "metadata": {},
   "source": [
    "# IMPLEMENTAÇÃO DO PERCEPTRON"
   ]
  },
  {
   "cell_type": "code",
   "execution_count": 19,
   "id": "1a1fb9b0",
   "metadata": {},
   "outputs": [],
   "source": [
    "#PASSO 1: OBTER O CONJUNTO DE AMOSTRAS DE TREINAMENTO X \n",
    "\n",
    "#carregar a tabela de dados\n",
    "dados = pd.read_csv(\"dataset_iris.csv\", sep=\";\")\n",
    "\n",
    "#analise exploratoria de dados\n",
    "#walker = pyg.walk(dados)"
   ]
  },
  {
   "cell_type": "code",
   "execution_count": 20,
   "id": "240f6e81",
   "metadata": {},
   "outputs": [
    {
     "name": "stdout",
     "output_type": "stream",
     "text": [
      "30\n",
      "3\n",
      "[[-0.6508  0.1097  4.0009]\n",
      " [-1.4492  0.8896  4.4005]\n",
      " [ 2.085   0.6876 12.071 ]\n",
      " [ 0.2626  1.1476  7.7985]\n",
      " [ 0.6418  1.0234  7.0427]\n",
      " [ 0.2569  0.673   8.3265]\n",
      " [ 1.1155  0.6043  7.4446]\n",
      " [ 0.0914  0.3399  7.0677]\n",
      " [ 0.0121  0.5256  4.6316]\n",
      " [-0.0429  0.466   5.4323]\n",
      " [ 0.434   0.687   8.2287]\n",
      " [ 0.2735  1.0287  7.1934]\n",
      " [ 0.4839  0.4851  7.485 ]\n",
      " [ 0.4089 -0.1267  5.5019]\n",
      " [ 1.4391  0.1614  8.5843]\n",
      " [-0.9115 -0.1973  2.1962]\n",
      " [ 0.3654  1.0475  7.4858]\n",
      " [ 0.2144  0.7515  7.1699]\n",
      " [ 0.2013  1.0014  6.5489]\n",
      " [ 0.6483  0.2183  5.8991]\n",
      " [-0.1147  0.2242  7.2435]\n",
      " [-0.797   0.8795  3.8762]\n",
      " [-1.0625  0.6366  2.4707]\n",
      " [ 0.5307  0.1285  5.6883]\n",
      " [-1.22    0.7777  1.7252]\n",
      " [ 0.3957  0.1076  5.6623]\n",
      " [-0.1013  0.5989  7.1812]\n",
      " [ 2.4482  0.9455 11.2095]\n",
      " [ 2.0149  0.6192 10.9263]\n",
      " [ 0.2012  0.2611  5.4631]]\n"
     ]
    }
   ],
   "source": [
    "#quantidade de elementos na amostra\n",
    "n_amostras = dados.shape[0]\n",
    "print(n_amostras)\n",
    "\n",
    "#quantidade de variaveis de entrada (subtrair a coluna de tipo)\n",
    "n_variaveis = dados.shape[1] - 1 \n",
    "print(n_variaveis)\n",
    "\n",
    "#separando os dados contendo apenas as variaveis de entrada \n",
    "x = dados.iloc[:, 0:n_variaveis].values\n",
    "print(x)\n"
   ]
  },
  {
   "cell_type": "code",
   "execution_count": 21,
   "id": "aedbfe37",
   "metadata": {},
   "outputs": [
    {
     "name": "stdout",
     "output_type": "stream",
     "text": [
      "[[-0.6508  0.1097  4.0009 -1.    ]\n",
      " [-1.4492  0.8896  4.4005 -1.    ]\n",
      " [ 2.085   0.6876 12.071  -1.    ]\n",
      " [ 0.2626  1.1476  7.7985 -1.    ]\n",
      " [ 0.6418  1.0234  7.0427 -1.    ]\n",
      " [ 0.2569  0.673   8.3265 -1.    ]\n",
      " [ 1.1155  0.6043  7.4446 -1.    ]\n",
      " [ 0.0914  0.3399  7.0677 -1.    ]\n",
      " [ 0.0121  0.5256  4.6316 -1.    ]\n",
      " [-0.0429  0.466   5.4323 -1.    ]\n",
      " [ 0.434   0.687   8.2287 -1.    ]\n",
      " [ 0.2735  1.0287  7.1934 -1.    ]\n",
      " [ 0.4839  0.4851  7.485  -1.    ]\n",
      " [ 0.4089 -0.1267  5.5019 -1.    ]\n",
      " [ 1.4391  0.1614  8.5843 -1.    ]\n",
      " [-0.9115 -0.1973  2.1962 -1.    ]\n",
      " [ 0.3654  1.0475  7.4858 -1.    ]\n",
      " [ 0.2144  0.7515  7.1699 -1.    ]\n",
      " [ 0.2013  1.0014  6.5489 -1.    ]\n",
      " [ 0.6483  0.2183  5.8991 -1.    ]\n",
      " [-0.1147  0.2242  7.2435 -1.    ]\n",
      " [-0.797   0.8795  3.8762 -1.    ]\n",
      " [-1.0625  0.6366  2.4707 -1.    ]\n",
      " [ 0.5307  0.1285  5.6883 -1.    ]\n",
      " [-1.22    0.7777  1.7252 -1.    ]\n",
      " [ 0.3957  0.1076  5.6623 -1.    ]\n",
      " [-0.1013  0.5989  7.1812 -1.    ]\n",
      " [ 2.4482  0.9455 11.2095 -1.    ]\n",
      " [ 2.0149  0.6192 10.9263 -1.    ]\n",
      " [ 0.2012  0.2611  5.4631 -1.    ]]\n"
     ]
    }
   ],
   "source": [
    "#inserindo o bias \n",
    "bias = np.ones((n_amostras, 1)) * -1 \n",
    "x = np.hstack((x, bias))\n",
    "print(x)"
   ]
  },
  {
   "cell_type": "code",
   "execution_count": 22,
   "id": "9f74e006",
   "metadata": {},
   "outputs": [
    {
     "name": "stdout",
     "output_type": "stream",
     "text": [
      "[-1. -1. -1.  1.  1. -1.  1. -1.  1.  1. -1.  1. -1. -1. -1. -1.  1.  1.\n",
      "  1.  1. -1.  1.  1.  1.  1. -1. -1.  1. -1.  1.]\n",
      "-1: 14\n",
      "1: 16\n"
     ]
    }
   ],
   "source": [
    "#PASSO 2: DO VETOR DE SAIDAS Y, ASSOCIAR A SAIDA ESPERADA DE Y PARA CADA X\n",
    "\n",
    "y = dados.iloc[:, n_variaveis].values\n",
    "print(y)\n",
    "\n",
    "#contar quantas amostras de cada classe existem no dataset\n",
    "print(f\"-1: {(y == -1).sum()}\")\n",
    "print(f\"1: {(y == 1).sum()}\")"
   ]
  },
  {
   "cell_type": "code",
   "execution_count": 23,
   "id": "7d3e785a",
   "metadata": {},
   "outputs": [
    {
     "name": "stdout",
     "output_type": "stream",
     "text": [
      "[ 0.63246262 -0.92069889  0.01478446 -0.82109004]\n"
     ]
    }
   ],
   "source": [
    "#PASSO 3: INICIALIZAR O VETOR DE PESOS W COM VALORES ALEATORIOS \n",
    "w = np.random.uniform(-1,1,n_variaveis + 1)\n",
    "print(w)"
   ]
  },
  {
   "cell_type": "code",
   "execution_count": 24,
   "id": "ba05e1a7",
   "metadata": {},
   "outputs": [],
   "source": [
    "#PASSO 4: DEFINIR A TAXA DE APRENDIZAGEM COM VALOR ENTRE 0 E 1 \n",
    "#taxa de aprendizagem eta\n",
    "eta = 0.01\n",
    "\n",
    "#PASSO 5: CALCULAR O NUMERO DE AMOSTRAS EM X\n",
    "#ja foi deito e esta em n_amostras\n",
    "\n",
    "#PASSO 6: DEFINIR A TOLERANCIA AO ERRO \n",
    "tolerancia = 0.01 \n",
    "\n",
    "#PASSO 7: SETAR O ERRO INICIAL MAIOR QUE A TOLERANCIA \n",
    "erro_medio = tolerancia + 1 \n",
    "\n",
    "#PASSO 8: CRIAR UM VETOR QUE IRA ARMAZENAR O ERRO DE TODAS AS EPOCAS, EPOCA A EPOCA \n",
    "erros_epocas = []\n",
    "\n",
    "#PASSO 9: INCIALIZA O CONTADOR DE EPOCAS  \n",
    "epoca = 0 \n",
    "\n",
    "#PASSO 10: DEFINE O MAXIMO DE EPOCAS \n",
    "max_epocas = 300\n",
    "\n"
   ]
  },
  {
   "cell_type": "code",
   "execution_count": 25,
   "id": "2fdb43a7",
   "metadata": {},
   "outputs": [],
   "source": [
    "#PASSO 11 E 12: SETA OS CRITERIOS DE PARADA \n",
    "criterio_erro = True \n",
    "criterio_epocas = True\n",
    "\n",
    "#PASSO 13: ENQUANTO O ERRO FOR MAIOR QUE A TOLERANCIA E O MAXIMO DE EPOCAS NAO FOR ATINGIDO, CONTINUE O TREINO\n",
    "while (criterio_erro and criterio_epocas):\n",
    "    #PASSO 14: SETA O ERRO DA EPOCA ATUAL COM ZERO NO INICIO DE CADA EPOCA\n",
    "    erro_atual = 0 \n",
    "\n",
    "    #PASSO 15: IMPLEMENTA O CONTADOR DE EPOCAS PARA SABER QUE EPOCA A RNA ESTA TREINANDO \n",
    "    epoca = epoca + 1 \n",
    "\n",
    "    #PASSO 16: EMBARALHA OS INDICES PARA BUSCAR AMOSTRAS ALEATORIAMENTE NO CONJUNTO X \n",
    "    indices_embaralhados = np.random.permutation(n_amostras)\n",
    "\n",
    "    #PASSO 17: PARA CADA AMOSTRA NO CONJUNTO DE TREINO X FAÇA \n",
    "    for i in range(n_amostras): \n",
    "        #captura o indice da amostra atual a ser apresentada na RNA\n",
    "        indice_amostra = indices_embaralhados[i]\n",
    "\n",
    "        #captura a amostra atual a ser apresentada a RNA\n",
    "        xi_amostra = x[indice_amostra, :]\n",
    "        \n",
    "        #PASSO 18: CALCULA O POTENCIAL DE ATIVAÇÃO U \n",
    "        u = np.dot(w.T, xi_amostra)\n",
    "\n",
    "        #PASSO 19: CALCULA A SAÍDA PREVISTA COM BASE NA FUNÇÃO DE ATIVAÇÃO \n",
    "        yhat = degrauBipolar(u)\n",
    "        \n",
    "        #PASSO 20: CALCULA O ERRO ENTRE O VALOR ESPERADO E O VALOR PREVISTO \n",
    "        e = y[indice_amostra] - yhat\n",
    "\n",
    "        #PASSSO 21: ATUALIZA OS PESOS APLICANDO A REGRA DE HEBB \n",
    "        w = w + ((eta * e) * xi_amostra)\n",
    "\n",
    "        #PASSSO 22: ACUMULADOR DE ERROS DE TODAS AS AMOSTRAS\n",
    "        erro_atual = erro_atual + np.abs(e)\n",
    "\n",
    "        #PASSO 23: CALCULA O ERRO MEDIO DA EPOCA\n",
    "        erro_medio = erro_atual/n_amostras\n",
    "\n",
    "        #PASSO 24: ARMAZENA O ERRO MEDIO DA EPOCA ATUAL NO VETOR DE TODAS AS EPOCAS\n",
    "        erros_epocas.append(erro_medio)\n",
    "\n",
    "        #PASSO 25 E 26: VERIFICA E ATUALIZA OS CRITERIOS DE PARADA\n",
    "        criterio_erro = (erro_medio > tolerancia)\n",
    "        criterio_epocas = (epoca < max_epocas)"
   ]
  },
  {
   "cell_type": "code",
   "execution_count": 26,
   "id": "9ae051e3",
   "metadata": {},
   "outputs": [
    {
     "data": {
      "text/plain": [
       "<function matplotlib.pyplot.show(close=None, block=None)>"
      ]
     },
     "execution_count": 26,
     "metadata": {},
     "output_type": "execute_result"
    },
    {
     "data": {
      "image/png": "[encoded data removed]",
      "text/plain": [
       "<Figure size 400x400 with 1 Axes>"
      ]
     },
     "metadata": {},
     "output_type": "display_data"
    }
   ],
   "source": [
    "#plotando a convergencia do algortimo com base no erro epoca a epoca \n",
    "plt.figure(figsize=(4,4))\n",
    "plt.plot(erros_epocas[:max_epocas])\n",
    "plt.title(\"Convergência do erro\")\n",
    "plt.xlabel(\"Épocas\")\n",
    "plt.ylabel(\"Erro médio\")\n",
    "plt.grid(True)\n",
    "plt.show"
   ]
  },
  {
   "cell_type": "code",
   "execution_count": 27,
   "id": "c3582d35",
   "metadata": {},
   "outputs": [
    {
     "name": "stdout",
     "output_type": "stream",
     "text": [
      "Conjunto ideal de pesos w*\n",
      "[ 0.61513462  1.09898911 -0.28027554 -1.14109004]\n",
      "Épocas necessárias para convergir\n",
      "39\n"
     ]
    }
   ],
   "source": [
    "#exibindo os pesos calibrados pela Regra de Hebb \n",
    "print(\"Conjunto ideal de pesos w*\")\n",
    "print(w)\n",
    "\n",
    "print(\"Épocas necessárias para convergir\")\n",
    "print(epoca)"
   ]
  },
  {
   "cell_type": "code",
   "execution_count": 28,
   "id": "092f010e",
   "metadata": {},
   "outputs": [
    {
     "name": "stdout",
     "output_type": "stream",
     "text": [
      "[-1. -1. -1.  1.  1. -1.  1. -1.  1.  1. -1.  1. -1. -1. -1. -1.  1.  1.\n",
      "  1.  1. -1.  1.  1.  1.  1. -1. -1.  1. -1.  1.]\n"
     ]
    }
   ],
   "source": [
    "#cria um vetor para receber todas as previsoes realizadas pela RNA\n",
    "yhat = np.zeros(n_amostras)\n",
    "\n",
    "#armazenar todas as previsoes uma para cada amostra \n",
    "for i in range(n_amostras):\n",
    "    yhat[i] = previsao(w, x[i, :])\n",
    "\n",
    "print(yhat)"
   ]
  },
  {
   "cell_type": "markdown",
   "id": "76eb1d18",
   "metadata": {},
   "source": [
    "## ANÁLISE DA QUALIDADE DE CLASSIFICAÇÃO "
   ]
  },
  {
   "cell_type": "code",
   "execution_count": 29,
   "id": "752cd81f",
   "metadata": {},
   "outputs": [
    {
     "name": "stdout",
     "output_type": "stream",
     "text": [
      "Matriz de Confusão\n",
      "[[14  0]\n",
      " [ 0 16]]\n"
     ]
    },
    {
     "data": {
      "image/png": "[encoded data removed]",
      "text/plain": [
       "<Figure size 400x300 with 2 Axes>"
      ]
     },
     "metadata": {},
     "output_type": "display_data"
    }
   ],
   "source": [
    "#converter -1 em 0 para melhor visualizar a matriz de confusão \n",
    "yhat_display = np.where(yhat == -1, 0, yhat)\n",
    "y_display = np.where(y == -1, 0, y)\n",
    "\n",
    "#gera a matriz de confusao \n",
    "cm = confusion_matrix(y_display, yhat_display)\n",
    "print('Matriz de Confusão')\n",
    "print(cm)\n",
    "\n",
    "#plotar matriz de confusao croncante \n",
    "plt.figure(figsize=(4,3))\n",
    "sns.heatmap(cm, annot=True, fmt='d', cmap='Blues',\n",
    "            xticklabels=['Setosa','Versicolor'],\n",
    "            yticklabels=['Setosa','Versicolor'],)\n",
    "plt.title('Matriz de Confusão')\n",
    "plt.xlabel('Valor Real')\n",
    "plt.ylabel('Valor Predito')\n",
    "plt.show()"
   ]
  },
  {
   "cell_type": "code",
   "execution_count": 30,
   "id": "35104abd",
   "metadata": {},
   "outputs": [
    {
     "name": "stdout",
     "output_type": "stream",
     "text": [
      "Acurácia do Modelo:  100.0 %\n"
     ]
    }
   ],
   "source": [
    "#calculo da acurácia do modelo \n",
    "acuracia = (np.sum(yhat == y) / n_amostras) * 100\n",
    "print('Acurácia do Modelo: ',acuracia,'%') "
   ]
  },
  {
   "cell_type": "code",
   "execution_count": 31,
   "id": "fdf243dd",
   "metadata": {},
   "outputs": [
    {
     "data": {
      "image/png": "[encoded data removed]",
      "text/plain": [
       "<Figure size 400x400 with 1 Axes>"
      ]
     },
     "metadata": {},
     "output_type": "display_data"
    }
   ],
   "source": [
    "#plot do gráfico com o resultado das classificações\n",
    "if cm.shape == (2, 2):\n",
    "   resultado = [cm[0, 0], cm[0, 1], cm[1, 1], cm[1, 0]]\n",
    "   labels = ['VV', 'VS', 'SS', 'SV']\n",
    "   colors = ['green', 'red', 'green', 'red']\n",
    "   \n",
    "   plt.figure(figsize=(4, 4))\n",
    "   plt.bar(labels, resultado, color=colors)\n",
    "   plt.xlabel('Previsões')\n",
    "   plt.ylabel('Quantidade')\n",
    "   plt.title('Resultado das Classificações')\n",
    "   plt.ylim(0, 20)\n",
    "   for i, v in enumerate(resultado):\n",
    "      plt.text(i, v + 0.2, str(v), ha='center')\n",
    "   plt.show()"
   ]
  },
  {
   "cell_type": "code",
   "execution_count": 32,
   "id": "2da94903",
   "metadata": {},
   "outputs": [
    {
     "data": {
      "application/vnd.plotly.v1+json": {
       "config": {
        "plotlyServerURL": "https://plot.ly"
       },
       "data": [
        {
         "colorscale": [
          [
           0,
           "rgb(0, 0, 0)"
          ],
          [
           0.09090909090909091,
           "rgb(16, 16, 16)"
          ],
          [
           0.18181818181818182,
           "rgb(38, 38, 38)"
          ],
          [
           0.2727272727272727,
           "rgb(59, 59, 59)"
          ],
          [
           0.36363636363636365,
           "rgb(81, 80, 80)"
          ],
          [
           0.45454545454545453,
           "rgb(102, 101, 101)"
          ],
          [
           0.5454545454545454,
           "rgb(124, 123, 122)"
          ],
          [
           0.6363636363636364,
           "rgb(146, 146, 145)"
          ],
          [
           0.7272727272727273,
           "rgb(171, 171, 170)"
          ],
          [
           0.8181818181818182,
           "rgb(197, 197, 195)"
          ],
          [
           0.9090909090909091,
           "rgb(224, 224, 223)"
          ],
          [
           1,
           "rgb(254, 254, 253)"
          ]
         ],
         "name": "Hiperplano",
         "opacity": 0.3,
         "showscale": false,
         "type": "surface",
         "x": [
          [
           -1.9492,
           -1.6914421052631579,
           -1.433684210526316,
           -1.1759263157894737,
           -0.9181684210526315,
           -0.6604105263157893,
           -0.4026526315789474,
           -0.1448947368421052,
           0.112863157894737,
           0.3706210526315792,
           0.6283789473684214,
           0.8861368421052636,
           1.1438947368421053,
           1.4016526315789475,
           1.6594105263157897,
           1.9171684210526319,
           2.174926315789474,
           2.4326842105263156,
           2.690442105263158,
           2.9482
          ],
          [
           -1.9492,
           -1.6914421052631579,
           -1.433684210526316,
           -1.1759263157894737,
           -0.9181684210526315,
           -0.6604105263157893,
           -0.4026526315789474,
           -0.1448947368421052,
           0.112863157894737,
           0.3706210526315792,
           0.6283789473684214,
           0.8861368421052636,
           1.1438947368421053,
           1.4016526315789475,
           1.6594105263157897,
           1.9171684210526319,
           2.174926315789474,
           2.4326842105263156,
           2.690442105263158,
           2.9482
          ],
          [
           -1.9492,
           -1.6914421052631579,
           -1.433684210526316,
           -1.1759263157894737,
           -0.9181684210526315,
           -0.6604105263157893,
           -0.4026526315789474,
           -0.1448947368421052,
           0.112863157894737,
           0.3706210526315792,
           0.6283789473684214,
           0.8861368421052636,
           1.1438947368421053,
           1.4016526315789475,
           1.6594105263157897,
           1.9171684210526319,
           2.174926315789474,
           2.4326842105263156,
           2.690442105263158,
           2.9482
          ],
          [
           -1.9492,
           -1.6914421052631579,
           -1.433684210526316,
           -1.1759263157894737,
           -0.9181684210526315,
           -0.6604105263157893,
           -0.4026526315789474,
           -0.1448947368421052,
           0.112863157894737,
           0.3706210526315792,
           0.6283789473684214,
           0.8861368421052636,
           1.1438947368421053,
           1.4016526315789475,
           1.6594105263157897,
           1.9171684210526319,
           2.174926315789474,
           2.4326842105263156,
           2.690442105263158,
           2.9482
          ],
          [
           -1.9492,
           -1.6914421052631579,
           -1.433684210526316,
           -1.1759263157894737,
           -0.9181684210526315,
           -0.6604105263157893,
           -0.4026526315789474,
           -0.1448947368421052,
           0.112863157894737,
           0.3706210526315792,
           0.6283789473684214,
           0.8861368421052636,
           1.1438947368421053,
           1.4016526315789475,
           1.6594105263157897,
           1.9171684210526319,
           2.174926315789474,
           2.4326842105263156,
           2.690442105263158,
           2.9482
          ],
          [
           -1.9492,
           -1.6914421052631579,
           -1.433684210526316,
           -1.1759263157894737,
           -0.9181684210526315,
           -0.6604105263157893,
           -0.4026526315789474,
           -0.1448947368421052,
           0.112863157894737,
           0.3706210526315792,
           0.6283789473684214,
           0.8861368421052636,
           1.1438947368421053,
           1.4016526315789475,
           1.6594105263157897,
           1.9171684210526319,
           2.174926315789474,
           2.4326842105263156,
           2.690442105263158,
           2.9482
          ],
          [
           -1.9492,
           -1.6914421052631579,
           -1.433684210526316,
           -1.1759263157894737,
           -0.9181684210526315,
           -0.6604105263157893,
           -0.4026526315789474,
           -0.1448947368421052,
           0.112863157894737,
           0.3706210526315792,
           0.6283789473684214,
           0.8861368421052636,
           1.1438947368421053,
           1.4016526315789475,
           1.6594105263157897,
           1.9171684210526319,
           2.174926315789474,
           2.4326842105263156,
           2.690442105263158,
           2.9482
          ],
          [
           -1.9492,
           -1.6914421052631579,
           -1.433684210526316,
           -1.1759263157894737,
           -0.9181684210526315,
           -0.6604105263157893,
           -0.4026526315789474,
           -0.1448947368421052,
           0.112863157894737,
           0.3706210526315792,
           0.6283789473684214,
           0.8861368421052636,
           1.1438947368421053,
           1.4016526315789475,
           1.6594105263157897,
           1.9171684210526319,
           2.174926315789474,
           2.4326842105263156,
           2.690442105263158,
           2.9482
          ],
          [
           -1.9492,
           -1.6914421052631579,
           -1.433684210526316,
           -1.1759263157894737,
           -0.9181684210526315,
           -0.6604105263157893,
           -0.4026526315789474,
           -0.1448947368421052,
           0.112863157894737,
           0.3706210526315792,
           0.6283789473684214,
           0.8861368421052636,
           1.1438947368421053,
           1.4016526315789475,
           1.6594105263157897,
           1.9171684210526319,
           2.174926315789474,
           2.4326842105263156,
           2.690442105263158,
           2.9482
          ],
          [
           -1.9492,
           -1.6914421052631579,
           -1.433684210526316,
           -1.1759263157894737,
           -0.9181684210526315,
           -0.6604105263157893,
           -0.4026526315789474,
           -0.1448947368421052,
           0.112863157894737,
           0.3706210526315792,
           0.6283789473684214,
           0.8861368421052636,
           1.1438947368421053,
           1.4016526315789475,
           1.6594105263157897,
           1.9171684210526319,
           2.174926315789474,
           2.4326842105263156,
           2.690442105263158,
           2.9482
          ],
          [
           -1.9492,
           -1.6914421052631579,
           -1.433684210526316,
           -1.1759263157894737,
           -0.9181684210526315,
           -0.6604105263157893,
           -0.4026526315789474,
           -0.1448947368421052,
           0.112863157894737,
           0.3706210526315792,
           0.6283789473684214,
           0.8861368421052636,
           1.1438947368421053,
           1.4016526315789475,
           1.6594105263157897,
           1.9171684210526319,
           2.174926315789474,
           2.4326842105263156,
           2.690442105263158,
           2.9482
          ],
          [
           -1.9492,
           -1.6914421052631579,
           -1.433684210526316,
           -1.1759263157894737,
           -0.9181684210526315,
           -0.6604105263157893,
           -0.4026526315789474,
           -0.1448947368421052,
           0.112863157894737,
           0.3706210526315792,
           0.6283789473684214,
           0.8861368421052636,
           1.1438947368421053,
           1.4016526315789475,
           1.6594105263157897,
           1.9171684210526319,
           2.174926315789474,
           2.4326842105263156,
           2.690442105263158,
           2.9482
          ],
          [
           -1.9492,
           -1.6914421052631579,
           -1.433684210526316,
           -1.1759263157894737,
           -0.9181684210526315,
           -0.6604105263157893,
           -0.4026526315789474,
           -0.1448947368421052,
           0.112863157894737,
           0.3706210526315792,
           0.6283789473684214,
           0.8861368421052636,
           1.1438947368421053,
           1.4016526315789475,
           1.6594105263157897,
           1.9171684210526319,
           2.174926315789474,
           2.4326842105263156,
           2.690442105263158,
           2.9482
          ],
          [
           -1.9492,
           -1.6914421052631579,
           -1.433684210526316,
           -1.1759263157894737,
           -0.9181684210526315,
           -0.6604105263157893,
           -0.4026526315789474,
           -0.1448947368421052,
           0.112863157894737,
           0.3706210526315792,
           0.6283789473684214,
           0.8861368421052636,
           1.1438947368421053,
           1.4016526315789475,
           1.6594105263157897,
           1.9171684210526319,
           2.174926315789474,
           2.4326842105263156,
           2.690442105263158,
           2.9482
          ],
          [
           -1.9492,
           -1.6914421052631579,
           -1.433684210526316,
           -1.1759263157894737,
           -0.9181684210526315,
           -0.6604105263157893,
           -0.4026526315789474,
           -0.1448947368421052,
           0.112863157894737,
           0.3706210526315792,
           0.6283789473684214,
           0.8861368421052636,
           1.1438947368421053,
           1.4016526315789475,
           1.6594105263157897,
           1.9171684210526319,
           2.174926315789474,
           2.4326842105263156,
           2.690442105263158,
           2.9482
          ],
          [
           -1.9492,
           -1.6914421052631579,
           -1.433684210526316,
           -1.1759263157894737,
           -0.9181684210526315,
           -0.6604105263157893,
           -0.4026526315789474,
           -0.1448947368421052,
           0.112863157894737,
           0.3706210526315792,
           0.6283789473684214,
           0.8861368421052636,
           1.1438947368421053,
           1.4016526315789475,
           1.6594105263157897,
           1.9171684210526319,
           2.174926315789474,
           2.4326842105263156,
           2.690442105263158,
           2.9482
          ],
          [
           -1.9492,
           -1.6914421052631579,
           -1.433684210526316,
           -1.1759263157894737,
           -0.9181684210526315,
           -0.6604105263157893,
           -0.4026526315789474,
           -0.1448947368421052,
           0.112863157894737,
           0.3706210526315792,
           0.6283789473684214,
           0.8861368421052636,
           1.1438947368421053,
           1.4016526315789475,
           1.6594105263157897,
           1.9171684210526319,
           2.174926315789474,
           2.4326842105263156,
           2.690442105263158,
           2.9482
          ],
          [
           -1.9492,
           -1.6914421052631579,
           -1.433684210526316,
           -1.1759263157894737,
           -0.9181684210526315,
           -0.6604105263157893,
           -0.4026526315789474,
           -0.1448947368421052,
           0.112863157894737,
           0.3706210526315792,
           0.6283789473684214,
           0.8861368421052636,
           1.1438947368421053,
           1.4016526315789475,
           1.6594105263157897,
           1.9171684210526319,
           2.174926315789474,
           2.4326842105263156,
           2.690442105263158,
           2.9482
          ],
          [
           -1.9492,
           -1.6914421052631579,
           -1.433684210526316,
           -1.1759263157894737,
           -0.9181684210526315,
           -0.6604105263157893,
           -0.4026526315789474,
           -0.1448947368421052,
           0.112863157894737,
           0.3706210526315792,
           0.6283789473684214,
           0.8861368421052636,
           1.1438947368421053,
           1.4016526315789475,
           1.6594105263157897,
           1.9171684210526319,
           2.174926315789474,
           2.4326842105263156,
           2.690442105263158,
           2.9482
          ],
          [
           -1.9492,
           -1.6914421052631579,
           -1.433684210526316,
           -1.1759263157894737,
           -0.9181684210526315,
           -0.6604105263157893,
           -0.4026526315789474,
           -0.1448947368421052,
           0.112863157894737,
           0.3706210526315792,
           0.6283789473684214,
           0.8861368421052636,
           1.1438947368421053,
           1.4016526315789475,
           1.6594105263157897,
           1.9171684210526319,
           2.174926315789474,
           2.4326842105263156,
           2.690442105263158,
           2.9482
          ]
         ],
         "y": [
          [
           -0.6973,
           -0.6973,
           -0.6973,
           -0.6973,
           -0.6973,
           -0.6973,
           -0.6973,
           -0.6973,
           -0.6973,
           -0.6973,
           -0.6973,
           -0.6973,
           -0.6973,
           -0.6973,
           -0.6973,
           -0.6973,
           -0.6973,
           -0.6973,
           -0.6973,
           -0.6973
          ],
          [
           -0.5738842105263158,
           -0.5738842105263158,
           -0.5738842105263158,
           -0.5738842105263158,
           -0.5738842105263158,
           -0.5738842105263158,
           -0.5738842105263158,
           -0.5738842105263158,
           -0.5738842105263158,
           -0.5738842105263158,
           -0.5738842105263158,
           -0.5738842105263158,
           -0.5738842105263158,
           -0.5738842105263158,
           -0.5738842105263158,
           -0.5738842105263158,
           -0.5738842105263158,
           -0.5738842105263158,
           -0.5738842105263158,
           -0.5738842105263158
          ],
          [
           -0.45046842105263163,
           -0.45046842105263163,
           -0.45046842105263163,
           -0.45046842105263163,
           -0.45046842105263163,
           -0.45046842105263163,
           -0.45046842105263163,
           -0.45046842105263163,
           -0.45046842105263163,
           -0.45046842105263163,
           -0.45046842105263163,
           -0.45046842105263163,
           -0.45046842105263163,
           -0.45046842105263163,
           -0.45046842105263163,
           -0.45046842105263163,
           -0.45046842105263163,
           -0.45046842105263163,
           -0.45046842105263163,
           -0.45046842105263163
          ],
          [
           -0.3270526315789474,
           -0.3270526315789474,
           -0.3270526315789474,
           -0.3270526315789474,
           -0.3270526315789474,
           -0.3270526315789474,
           -0.3270526315789474,
           -0.3270526315789474,
           -0.3270526315789474,
           -0.3270526315789474,
           -0.3270526315789474,
           -0.3270526315789474,
           -0.3270526315789474,
           -0.3270526315789474,
           -0.3270526315789474,
           -0.3270526315789474,
           -0.3270526315789474,
           -0.3270526315789474,
           -0.3270526315789474,
           -0.3270526315789474
          ],
          [
           -0.20363684210526317,
           -0.20363684210526317,
           -0.20363684210526317,
           -0.20363684210526317,
           -0.20363684210526317,
           -0.20363684210526317,
           -0.20363684210526317,
           -0.20363684210526317,
           -0.20363684210526317,
           -0.20363684210526317,
           -0.20363684210526317,
           -0.20363684210526317,
           -0.20363684210526317,
           -0.20363684210526317,
           -0.20363684210526317,
           -0.20363684210526317,
           -0.20363684210526317,
           -0.20363684210526317,
           -0.20363684210526317,
           -0.20363684210526317
          ],
          [
           -0.08022105263157897,
           -0.08022105263157897,
           -0.08022105263157897,
           -0.08022105263157897,
           -0.08022105263157897,
           -0.08022105263157897,
           -0.08022105263157897,
           -0.08022105263157897,
           -0.08022105263157897,
           -0.08022105263157897,
           -0.08022105263157897,
           -0.08022105263157897,
           -0.08022105263157897,
           -0.08022105263157897,
           -0.08022105263157897,
           -0.08022105263157897,
           -0.08022105263157897,
           -0.08022105263157897,
           -0.08022105263157897,
           -0.08022105263157897
          ],
          [
           0.043194736842105286,
           0.043194736842105286,
           0.043194736842105286,
           0.043194736842105286,
           0.043194736842105286,
           0.043194736842105286,
           0.043194736842105286,
           0.043194736842105286,
           0.043194736842105286,
           0.043194736842105286,
           0.043194736842105286,
           0.043194736842105286,
           0.043194736842105286,
           0.043194736842105286,
           0.043194736842105286,
           0.043194736842105286,
           0.043194736842105286,
           0.043194736842105286,
           0.043194736842105286,
           0.043194736842105286
          ],
          [
           0.16661052631578943,
           0.16661052631578943,
           0.16661052631578943,
           0.16661052631578943,
           0.16661052631578943,
           0.16661052631578943,
           0.16661052631578943,
           0.16661052631578943,
           0.16661052631578943,
           0.16661052631578943,
           0.16661052631578943,
           0.16661052631578943,
           0.16661052631578943,
           0.16661052631578943,
           0.16661052631578943,
           0.16661052631578943,
           0.16661052631578943,
           0.16661052631578943,
           0.16661052631578943,
           0.16661052631578943
          ],
          [
           0.2900263157894737,
           0.2900263157894737,
           0.2900263157894737,
           0.2900263157894737,
           0.2900263157894737,
           0.2900263157894737,
           0.2900263157894737,
           0.2900263157894737,
           0.2900263157894737,
           0.2900263157894737,
           0.2900263157894737,
           0.2900263157894737,
           0.2900263157894737,
           0.2900263157894737,
           0.2900263157894737,
           0.2900263157894737,
           0.2900263157894737,
           0.2900263157894737,
           0.2900263157894737,
           0.2900263157894737
          ],
          [
           0.41344210526315783,
           0.41344210526315783,
           0.41344210526315783,
           0.41344210526315783,
           0.41344210526315783,
           0.41344210526315783,
           0.41344210526315783,
           0.41344210526315783,
           0.41344210526315783,
           0.41344210526315783,
           0.41344210526315783,
           0.41344210526315783,
           0.41344210526315783,
           0.41344210526315783,
           0.41344210526315783,
           0.41344210526315783,
           0.41344210526315783,
           0.41344210526315783,
           0.41344210526315783,
           0.41344210526315783
          ],
          [
           0.5368578947368421,
           0.5368578947368421,
           0.5368578947368421,
           0.5368578947368421,
           0.5368578947368421,
           0.5368578947368421,
           0.5368578947368421,
           0.5368578947368421,
           0.5368578947368421,
           0.5368578947368421,
           0.5368578947368421,
           0.5368578947368421,
           0.5368578947368421,
           0.5368578947368421,
           0.5368578947368421,
           0.5368578947368421,
           0.5368578947368421,
           0.5368578947368421,
           0.5368578947368421,
           0.5368578947368421
          ],
          [
           0.6602736842105263,
           0.6602736842105263,
           0.6602736842105263,
           0.6602736842105263,
           0.6602736842105263,
           0.6602736842105263,
           0.6602736842105263,
           0.6602736842105263,
           0.6602736842105263,
           0.6602736842105263,
           0.6602736842105263,
           0.6602736842105263,
           0.6602736842105263,
           0.6602736842105263,
           0.6602736842105263,
           0.6602736842105263,
           0.6602736842105263,
           0.6602736842105263,
           0.6602736842105263,
           0.6602736842105263
          ],
          [
           0.7836894736842106,
           0.7836894736842106,
           0.7836894736842106,
           0.7836894736842106,
           0.7836894736842106,
           0.7836894736842106,
           0.7836894736842106,
           0.7836894736842106,
           0.7836894736842106,
           0.7836894736842106,
           0.7836894736842106,
           0.7836894736842106,
           0.7836894736842106,
           0.7836894736842106,
           0.7836894736842106,
           0.7836894736842106,
           0.7836894736842106,
           0.7836894736842106,
           0.7836894736842106,
           0.7836894736842106
          ],
          [
           0.9071052631578949,
           0.9071052631578949,
           0.9071052631578949,
           0.9071052631578949,
           0.9071052631578949,
           0.9071052631578949,
           0.9071052631578949,
           0.9071052631578949,
           0.9071052631578949,
           0.9071052631578949,
           0.9071052631578949,
           0.9071052631578949,
           0.9071052631578949,
           0.9071052631578949,
           0.9071052631578949,
           0.9071052631578949,
           0.9071052631578949,
           0.9071052631578949,
           0.9071052631578949,
           0.9071052631578949
          ],
          [
           1.030521052631579,
           1.030521052631579,
           1.030521052631579,
           1.030521052631579,
           1.030521052631579,
           1.030521052631579,
           1.030521052631579,
           1.030521052631579,
           1.030521052631579,
           1.030521052631579,
           1.030521052631579,
           1.030521052631579,
           1.030521052631579,
           1.030521052631579,
           1.030521052631579,
           1.030521052631579,
           1.030521052631579,
           1.030521052631579,
           1.030521052631579,
           1.030521052631579
          ],
          [
           1.1539368421052631,
           1.1539368421052631,
           1.1539368421052631,
           1.1539368421052631,
           1.1539368421052631,
           1.1539368421052631,
           1.1539368421052631,
           1.1539368421052631,
           1.1539368421052631,
           1.1539368421052631,
           1.1539368421052631,
           1.1539368421052631,
           1.1539368421052631,
           1.1539368421052631,
           1.1539368421052631,
           1.1539368421052631,
           1.1539368421052631,
           1.1539368421052631,
           1.1539368421052631,
           1.1539368421052631
          ],
          [
           1.2773526315789474,
           1.2773526315789474,
           1.2773526315789474,
           1.2773526315789474,
           1.2773526315789474,
           1.2773526315789474,
           1.2773526315789474,
           1.2773526315789474,
           1.2773526315789474,
           1.2773526315789474,
           1.2773526315789474,
           1.2773526315789474,
           1.2773526315789474,
           1.2773526315789474,
           1.2773526315789474,
           1.2773526315789474,
           1.2773526315789474,
           1.2773526315789474,
           1.2773526315789474,
           1.2773526315789474
          ],
          [
           1.4007684210526314,
           1.4007684210526314,
           1.4007684210526314,
           1.4007684210526314,
           1.4007684210526314,
           1.4007684210526314,
           1.4007684210526314,
           1.4007684210526314,
           1.4007684210526314,
           1.4007684210526314,
           1.4007684210526314,
           1.4007684210526314,
           1.4007684210526314,
           1.4007684210526314,
           1.4007684210526314,
           1.4007684210526314,
           1.4007684210526314,
           1.4007684210526314,
           1.4007684210526314,
           1.4007684210526314
          ],
          [
           1.5241842105263157,
           1.5241842105263157,
           1.5241842105263157,
           1.5241842105263157,
           1.5241842105263157,
           1.5241842105263157,
           1.5241842105263157,
           1.5241842105263157,
           1.5241842105263157,
           1.5241842105263157,
           1.5241842105263157,
           1.5241842105263157,
           1.5241842105263157,
           1.5241842105263157,
           1.5241842105263157,
           1.5241842105263157,
           1.5241842105263157,
           1.5241842105263157,
           1.5241842105263157,
           1.5241842105263157
          ],
          [
           1.6476,
           1.6476,
           1.6476,
           1.6476,
           1.6476,
           1.6476,
           1.6476,
           1.6476,
           1.6476,
           1.6476,
           1.6476,
           1.6476,
           1.6476,
           1.6476,
           1.6476,
           1.6476,
           1.6476,
           1.6476,
           1.6476,
           1.6476
          ]
         ],
         "z": [
          [
           -2.9408754932980368,
           -2.375161469594693,
           -1.8094474458913492,
           -1.2437334221880054,
           -0.6780193984846616,
           -0.11230537478131788,
           0.4534086489220259,
           1.0191226726253697,
           1.584836696328714,
           2.1505507200320575,
           2.716264743735402,
           3.2819787674387455,
           3.8476927911420886,
           4.413406814845432,
           4.979120838548776,
           5.544834862252121,
           6.110548885955464,
           6.676262909658807,
           7.241976933362153,
           7.807690957065496
          ],
          [
           -2.4569495392996257,
           -1.8912355155962812,
           -1.325521491892938,
           -0.7598074681895935,
           -0.19409344448625054,
           0.371620579217094,
           0.9373346029204375,
           1.5030486266237812,
           2.0687626503271255,
           2.634476674030469,
           3.200190697733813,
           3.7659047214371566,
           4.3316187451405,
           4.897332768843844,
           5.463046792547187,
           6.028760816250532,
           6.594474839953875,
           7.160188863657218,
           7.725902887360564,
           8.291616911063906
          ],
          [
           -1.9730235853012146,
           -1.4073095615978708,
           -0.841595537894527,
           -0.27588151419118323,
           0.28983250951216055,
           0.8555465332155048,
           1.4212605569188481,
           1.9869745806221923,
           2.552688604325536,
           3.11840262802888,
           3.684116651732224,
           4.249830675435568,
           4.815544699138911,
           5.381258722842254,
           5.946972746545598,
           6.512686770248943,
           7.078400793952286,
           7.6441148176556295,
           8.209828841358975,
           8.775542865062318
          ],
          [
           -1.4890976313028035,
           -0.9233836075994589,
           -0.35766958389611586,
           0.2080444398072287,
           0.7737584635105721,
           1.3394724872139163,
           1.9051865109172597,
           2.4709005346206037,
           3.0366145583239477,
           3.6023285820272917,
           4.168042605730635,
           4.733756629433979,
           5.299470653137322,
           5.865184676840666,
           6.4308987005440095,
           6.996612724247354,
           7.5623267479506975,
           8.12804077165404,
           8.693754795357387,
           9.259468819060729
          ],
          [
           -1.0051716773043924,
           -0.43945765360104855,
           0.12625637010229523,
           0.6919703938056394,
           1.2576844175089832,
           1.823398441212327,
           2.3891124649156708,
           2.9548264886190148,
           3.5205405123223588,
           4.086254536025702,
           4.651968559729046,
           5.21768258343239,
           5.7833966071357334,
           6.3491106308390775,
           6.914824654542421,
           7.4805386782457655,
           8.046252701949108,
           8.61196672565245,
           9.177680749355797,
           9.74339477305914
          ],
          [
           -0.5212457233059812,
           0.044468300397362576,
           0.6101823241007064,
           1.1758963478040505,
           1.7416103715073943,
           2.3073243952107387,
           2.873038418914082,
           3.438752442617426,
           4.00446646632077,
           4.570180490024113,
           5.135894513727457,
           5.701608537430801,
           6.2673225611341445,
           6.8330365848374885,
           7.398750608540832,
           7.964464632244177,
           8.53017865594752,
           9.095892679650863,
           9.661606703354208,
           10.22732072705755
          ],
          [
           -0.037319769307569306,
           0.5283942543957741,
           1.0941082780991176,
           1.6598223018024616,
           2.2255363255058054,
           2.79125034920915,
           3.3569643729124934,
           3.9226783966158374,
           4.488392420319181,
           5.0541064440225245,
           5.619820467725869,
           6.1855344914292125,
           6.751248515132556,
           7.3169625388359,
           7.8826765625392445,
           8.448390586242587,
           9.01410460994593,
           9.579818633649273,
           10.14553265735262,
           10.711246681055963
          ],
          [
           0.446606184690841,
           1.0123202083941851,
           1.5780342320975287,
           2.143748255800873,
           2.7094622795042165,
           3.2751763032075605,
           3.8408903269109036,
           4.4066043506142485,
           4.9723183743175925,
           5.538032398020936,
           6.10374642172428,
           6.669460445427624,
           7.235174469130967,
           7.800888492834311,
           8.366602516537654,
           8.932316540240999,
           9.498030563944342,
           10.063744587647685,
           10.62945861135103,
           11.195172635054373
          ],
          [
           0.930532138689253,
           1.4962461623925967,
           2.0619601860959396,
           2.6276742097992845,
           3.193388233502628,
           3.759102257205972,
           4.324816280909316,
           4.89053030461266,
           5.456244328316004,
           6.021958352019347,
           6.587672375722692,
           7.153386399426035,
           7.719100423129378,
           8.284814446832723,
           8.850528470536068,
           9.41624249423941,
           9.981956517942752,
           10.547670541646095,
           11.113384565349442,
           11.679098589052785
          ],
          [
           1.4144580926876638,
           1.9801721163910075,
           2.5458861400943507,
           3.111600163797695,
           3.6773141875010387,
           4.243028211204383,
           4.808742234907726,
           5.374456258611071,
           5.940170282314415,
           6.505884306017758,
           7.071598329721102,
           7.637312353424446,
           8.203026377127788,
           8.768740400831133,
           9.334454424534476,
           9.900168448237821,
           10.465882471941164,
           11.031596495644507,
           11.597310519347854,
           12.163024543051197
          ],
          [
           1.8983840466860749,
           2.4640980703894186,
           3.029812094092762,
           3.5955261177961066,
           4.16124014149945,
           4.726954165202794,
           5.292668188906137,
           5.858382212609482,
           6.424096236312826,
           6.98981026001617,
           7.555524283719514,
           8.121238307422857,
           8.6869523311262,
           9.252666354829545,
           9.818380378532888,
           10.384094402236233,
           10.949808425939574,
           11.515522449642917,
           12.081236473346264,
           12.646950497049607
          ],
          [
           2.382310000684486,
           2.94802402438783,
           3.5137380480911737,
           4.079452071794518,
           4.645166095497862,
           5.210880119201206,
           5.776594142904549,
           6.342308166607893,
           6.908022190311238,
           7.473736214014581,
           8.039450237717926,
           8.605164261421269,
           9.170878285124612,
           9.736592308827955,
           10.302306332531298,
           10.868020356234645,
           11.433734379937986,
           11.99944840364133,
           12.565162427344676,
           13.13087645104802
          ],
          [
           2.8662359546828977,
           3.4319499783862417,
           3.997664002089585,
           4.563378025792929,
           5.129092049496274,
           5.694806073199617,
           6.260520096902961,
           6.826234120606304,
           7.391948144309649,
           7.957662168012993,
           8.523376191716336,
           9.08909021541968,
           9.654804239123024,
           10.220518262826367,
           10.786232286529712,
           11.351946310233055,
           11.917660333936398,
           12.483374357639741,
           13.049088381343086,
           13.61480240504643
          ],
          [
           3.350161908681309,
           3.9158759323846524,
           4.481589956087996,
           5.04730397979134,
           5.613018003494685,
           6.178732027198028,
           6.744446050901372,
           7.310160074604715,
           7.87587409830806,
           8.441588122011403,
           9.007302145714748,
           9.573016169418091,
           10.138730193121434,
           10.704444216824777,
           11.270158240528122,
           11.835872264231467,
           12.40158628793481,
           12.967300311638153,
           13.533014335341498,
           14.098728359044841
          ],
          [
           3.83408786267972,
           4.399801886383064,
           4.965515910086406,
           5.531229933789751,
           6.096943957493095,
           6.662657981196439,
           7.228372004899783,
           7.794086028603126,
           8.35980005230647,
           8.925514076009815,
           9.491228099713158,
           10.056942123416501,
           10.622656147119844,
           11.18837017082319,
           11.754084194526532,
           12.319798218229879,
           12.88551224193322,
           13.451226265636564,
           14.016940289339908,
           14.582654313043252
          ],
          [
           4.318013816678131,
           4.883727840381475,
           5.449441864084817,
           6.015155887788162,
           6.580869911491506,
           7.14658393519485,
           7.712297958898193,
           8.278011982601537,
           8.843726006304882,
           9.409440030008225,
           9.97515405371157,
           10.540868077414915,
           11.106582101118256,
           11.6722961248216,
           12.238010148524944,
           12.803724172228288,
           13.36943819593163,
           13.935152219634974,
           14.500866243338322,
           15.066580267041662
          ],
          [
           4.801939770676542,
           5.367653794379886,
           5.933367818083228,
           6.499081841786573,
           7.064795865489917,
           7.630509889193261,
           8.196223912896606,
           8.76193793659995,
           9.327651960303292,
           9.893365984006637,
           10.45908000770998,
           11.024794031413323,
           11.590508055116668,
           12.156222078820011,
           12.721936102523355,
           13.287650126226701,
           13.853364149930043,
           14.419078173633388,
           14.98479219733673,
           15.550506221040074
          ],
          [
           5.285865724674952,
           5.851579748378296,
           6.41729377208164,
           6.983007795784983,
           7.548721819488327,
           8.114435843191671,
           8.680149866895015,
           9.245863890598358,
           9.811577914301703,
           10.377291938005047,
           10.94300596170839,
           11.508719985411735,
           12.074434009115079,
           12.640148032818422,
           13.205862056521765,
           13.77157608022511,
           14.337290103928455,
           14.903004127631794,
           15.46871815133514,
           16.034432175038486
          ],
          [
           5.769791678673364,
           6.335505702376708,
           6.901219726080051,
           7.466933749783395,
           8.032647773486739,
           8.598361797190083,
           9.164075820893428,
           9.729789844596771,
           10.295503868300115,
           10.86121789200346,
           11.426931915706803,
           11.992645939410147,
           12.55835996311349,
           13.124073986816834,
           13.689788010520177,
           14.255502034223523,
           14.821216057926867,
           15.386930081630208,
           15.952644105333553,
           16.518358129036898
          ],
          [
           6.253717632671775,
           6.819431656375119,
           7.3851456800784625,
           7.9508597037818065,
           8.51657372748515,
           9.082287751188494,
           9.648001774891837,
           10.213715798595182,
           10.779429822298527,
           11.34514384600187,
           11.910857869705215,
           12.476571893408558,
           13.0422859171119,
           13.607999940815244,
           14.173713964518589,
           14.739427988221934,
           15.305142011925273,
           15.87085603562862,
           16.436570059331967,
           17.002284083035306
          ]
         ]
        },
        {
         "marker": {
          "color": [
           "red",
           "red",
           "red",
           "blue",
           "blue",
           "red",
           "blue",
           "red",
           "blue",
           "blue",
           "red",
           "blue",
           "red",
           "red",
           "red",
           "red",
           "blue",
           "blue",
           "blue",
           "blue",
           "red",
           "blue",
           "blue",
           "blue",
           "blue",
           "red",
           "red",
           "blue",
           "red",
           "blue"
          ],
          "line": {
           "color": "white",
           "width": 1
          },
          "opacity": 0.8,
          "size": 8
         },
         "mode": "markers",
         "name": "Amostras",
         "type": "scatter3d",
         "x": [
          -0.6508,
          -1.4492,
          2.085,
          0.2626,
          0.6418,
          0.2569,
          1.1155,
          0.0914,
          0.0121,
          -0.0429,
          0.434,
          0.2735,
          0.4839,
          0.4089,
          1.4391,
          -0.9115,
          0.3654,
          0.2144,
          0.2013,
          0.6483,
          -0.1147,
          -0.797,
          -1.0625,
          0.5307,
          -1.22,
          0.3957,
          -0.1013,
          2.4482,
          2.0149,
          0.2012
         ],
         "y": [
          0.1097,
          0.8896,
          0.6876,
          1.1476,
          1.0234,
          0.673,
          0.6043,
          0.3399,
          0.5256,
          0.466,
          0.687,
          1.0287,
          0.4851,
          -0.1267,
          0.1614,
          -0.1973,
          1.0475,
          0.7515,
          1.0014,
          0.2183,
          0.2242,
          0.8795,
          0.6366,
          0.1285,
          0.7777,
          0.1076,
          0.5989,
          0.9455,
          0.6192,
          0.2611
         ],
         "z": [
          4.0009,
          4.4005,
          12.071,
          7.7985,
          7.0427,
          8.3265,
          7.4446,
          7.0677,
          4.6316,
          5.4323,
          8.2287,
          7.1934,
          7.485,
          5.5019,
          8.5843,
          2.1962,
          7.4858,
          7.1699,
          6.5489,
          5.8991,
          7.2435,
          3.8762,
          2.4707,
          5.6883,
          1.7252,
          5.6623,
          7.1812,
          11.2095,
          10.9263,
          5.4631
         ]
        }
       ],
       "layout": {
        "height": 600,
        "scene": {
         "xaxis": {
          "title": {
           "text": "x1"
          }
         },
         "yaxis": {
          "title": {
           "text": "x2"
          }
         },
         "zaxis": {
          "title": {
           "text": "x3"
          }
         }
        },
        "template": {
         "data": {
          "bar": [
           {
            "error_x": {
             "color": "#2a3f5f"
            },
            "error_y": {
             "color": "#2a3f5f"
            },
            "marker": {
             "line": {
              "color": "#E5ECF6",
              "width": 0.5
             },
             "pattern": {
              "fillmode": "overlay",
              "size": 10,
              "solidity": 0.2
             }
            },
            "type": "bar"
           }
          ],
          "barpolar": [
           {
            "marker": {
             "line": {
              "color": "#E5ECF6",
              "width": 0.5
             },
             "pattern": {
              "fillmode": "overlay",
              "size": 10,
              "solidity": 0.2
             }
            },
            "type": "barpolar"
           }
          ],
          "carpet": [
           {
            "aaxis": {
             "endlinecolor": "#2a3f5f",
             "gridcolor": "white",
             "linecolor": "white",
             "minorgridcolor": "white",
             "startlinecolor": "#2a3f5f"
            },
            "baxis": {
             "endlinecolor": "#2a3f5f",
             "gridcolor": "white",
             "linecolor": "white",
             "minorgridcolor": "white",
             "startlinecolor": "#2a3f5f"
            },
            "type": "carpet"
           }
          ],
          "choropleth": [
           {
            "colorbar": {
             "outlinewidth": 0,
             "ticks": ""
            },
            "type": "choropleth"
           }
          ],
          "contour": [
           {
            "colorbar": {
             "outlinewidth": 0,
             "ticks": ""
            },
            "colorscale": [
             [
              0,
              "#0d0887"
             ],
             [
              0.1111111111111111,
              "#46039f"
             ],
             [
              0.2222222222222222,
              "#7201a8"
             ],
             [
              0.3333333333333333,
              "#9c179e"
             ],
             [
              0.4444444444444444,
              "#bd3786"
             ],
             [
              0.5555555555555556,
              "#d8576b"
             ],
             [
              0.6666666666666666,
              "#ed7953"
             ],
             [
              0.7777777777777778,
              "#fb9f3a"
             ],
             [
              0.8888888888888888,
              "#fdca26"
             ],
             [
              1,
              "#f0f921"
             ]
            ],
            "type": "contour"
           }
          ],
          "contourcarpet": [
           {
            "colorbar": {
             "outlinewidth": 0,
             "ticks": ""
            },
            "type": "contourcarpet"
           }
          ],
          "heatmap": [
           {
            "colorbar": {
             "outlinewidth": 0,
             "ticks": ""
            },
            "colorscale": [
             [
              0,
              "#0d0887"
             ],
             [
              0.1111111111111111,
              "#46039f"
             ],
             [
              0.2222222222222222,
              "#7201a8"
             ],
             [
              0.3333333333333333,
              "#9c179e"
             ],
             [
              0.4444444444444444,
              "#bd3786"
             ],
             [
              0.5555555555555556,
              "#d8576b"
             ],
             [
              0.6666666666666666,
              "#ed7953"
             ],
             [
              0.7777777777777778,
              "#fb9f3a"
             ],
             [
              0.8888888888888888,
              "#fdca26"
             ],
             [
              1,
              "#f0f921"
             ]
            ],
            "type": "heatmap"
           }
          ],
          "heatmapgl": [
           {
            "colorbar": {
             "outlinewidth": 0,
             "ticks": ""
            },
            "colorscale": [
             [
              0,
              "#0d0887"
             ],
             [
              0.1111111111111111,
              "#46039f"
             ],
             [
              0.2222222222222222,
              "#7201a8"
             ],
             [
              0.3333333333333333,
              "#9c179e"
             ],
             [
              0.4444444444444444,
              "#bd3786"
             ],
             [
              0.5555555555555556,
              "#d8576b"
             ],
             [
              0.6666666666666666,
              "#ed7953"
             ],
             [
              0.7777777777777778,
              "#fb9f3a"
             ],
             [
              0.8888888888888888,
              "#fdca26"
             ],
             [
              1,
              "#f0f921"
             ]
            ],
            "type": "heatmapgl"
           }
          ],
          "histogram": [
           {
            "marker": {
             "pattern": {
              "fillmode": "overlay",
              "size": 10,
              "solidity": 0.2
             }
            },
            "type": "histogram"
           }
          ],
          "histogram2d": [
           {
            "colorbar": {
             "outlinewidth": 0,
             "ticks": ""
            },
            "colorscale": [
             [
              0,
              "#0d0887"
             ],
             [
              0.1111111111111111,
              "#46039f"
             ],
             [
              0.2222222222222222,
              "#7201a8"
             ],
             [
              0.3333333333333333,
              "#9c179e"
             ],
             [
              0.4444444444444444,
              "#bd3786"
             ],
             [
              0.5555555555555556,
              "#d8576b"
             ],
             [
              0.6666666666666666,
              "#ed7953"
             ],
             [
              0.7777777777777778,
              "#fb9f3a"
             ],
             [
              0.8888888888888888,
              "#fdca26"
             ],
             [
              1,
              "#f0f921"
             ]
            ],
            "type": "histogram2d"
           }
          ],
          "histogram2dcontour": [
           {
            "colorbar": {
             "outlinewidth": 0,
             "ticks": ""
            },
            "colorscale": [
             [
              0,
              "#0d0887"
             ],
             [
              0.1111111111111111,
              "#46039f"
             ],
             [
              0.2222222222222222,
              "#7201a8"
             ],
             [
              0.3333333333333333,
              "#9c179e"
             ],
             [
              0.4444444444444444,
              "#bd3786"
             ],
             [
              0.5555555555555556,
              "#d8576b"
             ],
             [
              0.6666666666666666,
              "#ed7953"
             ],
             [
              0.7777777777777778,
              "#fb9f3a"
             ],
             [
              0.8888888888888888,
              "#fdca26"
             ],
             [
              1,
              "#f0f921"
             ]
            ],
            "type": "histogram2dcontour"
           }
          ],
          "mesh3d": [
           {
            "colorbar": {
             "outlinewidth": 0,
             "ticks": ""
            },
            "type": "mesh3d"
           }
          ],
          "parcoords": [
           {
            "line": {
             "colorbar": {
              "outlinewidth": 0,
              "ticks": ""
             }
            },
            "type": "parcoords"
           }
          ],
          "pie": [
           {
            "automargin": true,
            "type": "pie"
           }
          ],
          "scatter": [
           {
            "fillpattern": {
             "fillmode": "overlay",
             "size": 10,
             "solidity": 0.2
            },
            "type": "scatter"
           }
          ],
          "scatter3d": [
           {
            "line": {
             "colorbar": {
              "outlinewidth": 0,
              "ticks": ""
             }
            },
            "marker": {
             "colorbar": {
              "outlinewidth": 0,
              "ticks": ""
             }
            },
            "type": "scatter3d"
           }
          ],
          "scattercarpet": [
           {
            "marker": {
             "colorbar": {
              "outlinewidth": 0,
              "ticks": ""
             }
            },
            "type": "scattercarpet"
           }
          ],
          "scattergeo": [
           {
            "marker": {
             "colorbar": {
              "outlinewidth": 0,
              "ticks": ""
             }
            },
            "type": "scattergeo"
           }
          ],
          "scattergl": [
           {
            "marker": {
             "colorbar": {
              "outlinewidth": 0,
              "ticks": ""
             }
            },
            "type": "scattergl"
           }
          ],
          "scattermapbox": [
           {
            "marker": {
             "colorbar": {
              "outlinewidth": 0,
              "ticks": ""
             }
            },
            "type": "scattermapbox"
           }
          ],
          "scatterpolar": [
           {
            "marker": {
             "colorbar": {
              "outlinewidth": 0,
              "ticks": ""
             }
            },
            "type": "scatterpolar"
           }
          ],
          "scatterpolargl": [
           {
            "marker": {
             "colorbar": {
              "outlinewidth": 0,
              "ticks": ""
             }
            },
            "type": "scatterpolargl"
           }
          ],
          "scatterternary": [
           {
            "marker": {
             "colorbar": {
              "outlinewidth": 0,
              "ticks": ""
             }
            },
            "type": "scatterternary"
           }
          ],
          "surface": [
           {
            "colorbar": {
             "outlinewidth": 0,
             "ticks": ""
            },
            "colorscale": [
             [
              0,
              "#0d0887"
             ],
             [
              0.1111111111111111,
              "#46039f"
             ],
             [
              0.2222222222222222,
              "#7201a8"
             ],
             [
              0.3333333333333333,
              "#9c179e"
             ],
             [
              0.4444444444444444,
              "#bd3786"
             ],
             [
              0.5555555555555556,
              "#d8576b"
             ],
             [
              0.6666666666666666,
              "#ed7953"
             ],
             [
              0.7777777777777778,
              "#fb9f3a"
             ],
             [
              0.8888888888888888,
              "#fdca26"
             ],
             [
              1,
              "#f0f921"
             ]
            ],
            "type": "surface"
           }
          ],
          "table": [
           {
            "cells": {
             "fill": {
              "color": "#EBF0F8"
             },
             "line": {
              "color": "white"
             }
            },
            "header": {
             "fill": {
              "color": "#C8D4E3"
             },
             "line": {
              "color": "white"
             }
            },
            "type": "table"
           }
          ]
         },
         "layout": {
          "annotationdefaults": {
           "arrowcolor": "#2a3f5f",
           "arrowhead": 0,
           "arrowwidth": 1
          },
          "autotypenumbers": "strict",
          "coloraxis": {
           "colorbar": {
            "outlinewidth": 0,
            "ticks": ""
           }
          },
          "colorscale": {
           "diverging": [
            [
             0,
             "#8e0152"
            ],
            [
             0.1,
             "#c51b7d"
            ],
            [
             0.2,
             "#de77ae"
            ],
            [
             0.3,
             "#f1b6da"
            ],
            [
             0.4,
             "#fde0ef"
            ],
            [
             0.5,
             "#f7f7f7"
            ],
            [
             0.6,
             "#e6f5d0"
            ],
            [
             0.7,
             "#b8e186"
            ],
            [
             0.8,
             "#7fbc41"
            ],
            [
             0.9,
             "#4d9221"
            ],
            [
             1,
             "#276419"
            ]
           ],
           "sequential": [
            [
             0,
             "#0d0887"
            ],
            [
             0.1111111111111111,
             "#46039f"
            ],
            [
             0.2222222222222222,
             "#7201a8"
            ],
            [
             0.3333333333333333,
             "#9c179e"
            ],
            [
             0.4444444444444444,
             "#bd3786"
            ],
            [
             0.5555555555555556,
             "#d8576b"
            ],
            [
             0.6666666666666666,
             "#ed7953"
            ],
            [
             0.7777777777777778,
             "#fb9f3a"
            ],
            [
             0.8888888888888888,
             "#fdca26"
            ],
            [
             1,
             "#f0f921"
            ]
           ],
           "sequentialminus": [
            [
             0,
             "#0d0887"
            ],
            [
             0.1111111111111111,
             "#46039f"
            ],
            [
             0.2222222222222222,
             "#7201a8"
            ],
            [
             0.3333333333333333,
             "#9c179e"
            ],
            [
             0.4444444444444444,
             "#bd3786"
            ],
            [
             0.5555555555555556,
             "#d8576b"
            ],
            [
             0.6666666666666666,
             "#ed7953"
            ],
            [
             0.7777777777777778,
             "#fb9f3a"
            ],
            [
             0.8888888888888888,
             "#fdca26"
            ],
            [
             1,
             "#f0f921"
            ]
           ]
          },
          "colorway": [
           "#636efa",
           "#EF553B",
           "#00cc96",
           "#ab63fa",
           "#FFA15A",
           "#19d3f3",
           "#FF6692",
           "#B6E880",
           "#FF97FF",
           "#FECB52"
          ],
          "font": {
           "color": "#2a3f5f"
          },
          "geo": {
           "bgcolor": "white",
           "lakecolor": "white",
           "landcolor": "#E5ECF6",
           "showlakes": true,
           "showland": true,
           "subunitcolor": "white"
          },
          "hoverlabel": {
           "align": "left"
          },
          "hovermode": "closest",
          "mapbox": {
           "style": "light"
          },
          "paper_bgcolor": "white",
          "plot_bgcolor": "#E5ECF6",
          "polar": {
           "angularaxis": {
            "gridcolor": "white",
            "linecolor": "white",
            "ticks": ""
           },
           "bgcolor": "#E5ECF6",
           "radialaxis": {
            "gridcolor": "white",
            "linecolor": "white",
            "ticks": ""
           }
          },
          "scene": {
           "xaxis": {
            "backgroundcolor": "#E5ECF6",
            "gridcolor": "white",
            "gridwidth": 2,
            "linecolor": "white",
            "showbackground": true,
            "ticks": "",
            "zerolinecolor": "white"
           },
           "yaxis": {
            "backgroundcolor": "#E5ECF6",
            "gridcolor": "white",
            "gridwidth": 2,
            "linecolor": "white",
            "showbackground": true,
            "ticks": "",
            "zerolinecolor": "white"
           },
           "zaxis": {
            "backgroundcolor": "#E5ECF6",
            "gridcolor": "white",
            "gridwidth": 2,
            "linecolor": "white",
            "showbackground": true,
            "ticks": "",
            "zerolinecolor": "white"
           }
          },
          "shapedefaults": {
           "line": {
            "color": "#2a3f5f"
           }
          },
          "ternary": {
           "aaxis": {
            "gridcolor": "white",
            "linecolor": "white",
            "ticks": ""
           },
           "baxis": {
            "gridcolor": "white",
            "linecolor": "white",
            "ticks": ""
           },
           "bgcolor": "#E5ECF6",
           "caxis": {
            "gridcolor": "white",
            "linecolor": "white",
            "ticks": ""
           }
          },
          "title": {
           "x": 0.05
          },
          "xaxis": {
           "automargin": true,
           "gridcolor": "white",
           "linecolor": "white",
           "ticks": "",
           "title": {
            "standoff": 15
           },
           "zerolinecolor": "white",
           "zerolinewidth": 2
          },
          "yaxis": {
           "automargin": true,
           "gridcolor": "white",
           "linecolor": "white",
           "ticks": "",
           "title": {
            "standoff": 15
           },
           "zerolinecolor": "white",
           "zerolinewidth": 2
          }
         }
        },
        "title": {
         "text": "Classificação"
        },
        "width": 800
       }
      }
     },
     "metadata": {},
     "output_type": "display_data"
    }
   ],
   "source": [
    "#criar grafico 3d interativo\n",
    "colors = ['red' if y == -1 else 'blue' for y in yhat]\n",
    "\n",
    "#criar malha para o hiperplano\n",
    "x1_range = np.linspace(x[:, 0].min() - 0.5, x[:, 0].max() + 0.5, 20)\n",
    "x2_range = np.linspace(x[:, 1].min() - 0.5, x[:, 1].max() + 0.5, 20)\n",
    "x1_grid, x2_grid = np.meshgrid(x1_range, x2_range)\n",
    "\n",
    "#calcular x3 para o hiperplano: w0*x1 + w1*x2 + w2*x3 + w3*(-1) = 0\n",
    "#x3 = (w0*x1 + w1*x2 - w3) / (-w2)\n",
    "x3_grid = (w[0] * x1_grid + w[1] * x2_grid - w[3]) / (-w[2])\n",
    "\n",
    "fig = go.Figure()\n",
    "\n",
    "#adicionar o hiperplano\n",
    "fig.add_trace(go.Surface(\n",
    "   x=x1_grid,\n",
    "   y=x2_grid,\n",
    "   z=x3_grid,\n",
    "   colorscale='gray',\n",
    "   opacity=0.3,\n",
    "   showscale=False,\n",
    "   name='Hiperplano'\n",
    "))\n",
    "\n",
    "#adicionar os pontos\n",
    "fig.add_trace(go.Scatter3d(\n",
    "   x=x[:, 0],\n",
    "   y=x[:, 1],\n",
    "   z=x[:, 2],\n",
    "   mode='markers',\n",
    "   marker=dict(\n",
    "      size=8,\n",
    "      color=colors,\n",
    "      opacity=0.8,\n",
    "      line=dict(width=1, color='white')\n",
    "   ),\n",
    "   name='Amostras'\n",
    "))\n",
    "\n",
    "fig.update_layout(\n",
    "   title='Classificação',\n",
    "   scene=dict(\n",
    "      xaxis_title='x1',\n",
    "      yaxis_title='x2',\n",
    "      zaxis_title='x3'\n",
    "   ),\n",
    "   width=800,\n",
    "   height=600\n",
    ")\n",
    "\n",
    "fig.show()"
   ]
  }
 ],
 "metadata": {
  "kernelspec": {
   "display_name": "base",
   "language": "python",
   "name": "python3"
  },
  "language_info": {
   "codemirror_mode": {
    "name": "ipython",
    "version": 3
   },
   "file_extension": ".py",
   "mimetype": "text/x-python",
   "name": "python",
   "nbconvert_exporter": "python",
   "pygments_lexer": "ipython3",
   "version": "3.13.5"
  }
 },
 "nbformat": 4,
 "nbformat_minor": 5
}
